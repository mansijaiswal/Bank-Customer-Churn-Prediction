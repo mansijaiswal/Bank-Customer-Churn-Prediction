{
 "cells": [
  {
   "cell_type": "code",
   "execution_count": 1,
   "id": "f3e9cfc8",
   "metadata": {},
   "outputs": [],
   "source": [
    "import numpy as np\n",
    "import pandas as pd\n",
    "import matplotlib.pyplot as plt\n",
    "import seaborn as sns\n",
    "from sklearn.model_selection import train_test_split,GridSearchCV,RandomizedSearchCV,KFold,StratifiedKFold\n",
    "from sklearn.linear_model import LogisticRegression\n",
    "from sklearn.tree import DecisionTreeClassifier\n",
    "from sklearn.ensemble import RandomForestClassifier\n",
    "from sklearn.metrics import recall_score,precision_score,f1_score,classification_report,roc_auc_score,roc_curve,precision_recall_curve,confusion_matrix\n",
    "from imblearn.over_sampling import SMOTENC\n",
    "from sklearn.metrics import plot_precision_recall_curve\n",
    "from sklearn.preprocessing import StandardScaler\n",
    "import warnings\n",
    "warnings.simplefilter(\"ignore\")"
   ]
  },
  {
   "cell_type": "code",
   "execution_count": 2,
   "id": "23f479e7",
   "metadata": {},
   "outputs": [],
   "source": [
    "df=pd.read_csv(\"churn.csv\")"
   ]
  },
  {
   "cell_type": "code",
   "execution_count": 3,
   "id": "3daf90d9",
   "metadata": {},
   "outputs": [],
   "source": [
    "df.drop(['RowNumber','CustomerId','Surname','HasCrCard','Tenure'],axis=1,inplace=True)"
   ]
  },
  {
   "cell_type": "code",
   "execution_count": 4,
   "id": "bf20caac",
   "metadata": {},
   "outputs": [
    {
     "data": {
      "text/plain": [
       "Index(['CreditScore', 'Geography', 'Gender', 'Age', 'Balance', 'NumOfProducts',\n",
       "       'IsActiveMember', 'EstimatedSalary', 'Exited'],\n",
       "      dtype='object')"
      ]
     },
     "execution_count": 4,
     "metadata": {},
     "output_type": "execute_result"
    }
   ],
   "source": [
    "df.columns"
   ]
  },
  {
   "cell_type": "code",
   "execution_count": 5,
   "id": "0ad5d3de",
   "metadata": {},
   "outputs": [],
   "source": [
    "df['Geography']=df['Geography'].astype(\"category\")\n",
    "df['Gender']=df['Gender'].astype(\"category\")\n",
    "df['IsActiveMember']=df['IsActiveMember'].astype(\"category\")"
   ]
  },
  {
   "cell_type": "code",
   "execution_count": 6,
   "id": "34bd22ac",
   "metadata": {},
   "outputs": [
    {
     "name": "stdout",
     "output_type": "stream",
     "text": [
      "<class 'pandas.core.frame.DataFrame'>\n",
      "RangeIndex: 10000 entries, 0 to 9999\n",
      "Data columns (total 9 columns):\n",
      " #   Column           Non-Null Count  Dtype   \n",
      "---  ------           --------------  -----   \n",
      " 0   CreditScore      10000 non-null  int64   \n",
      " 1   Geography        10000 non-null  category\n",
      " 2   Gender           10000 non-null  category\n",
      " 3   Age              10000 non-null  int64   \n",
      " 4   Balance          10000 non-null  float64 \n",
      " 5   NumOfProducts    10000 non-null  int64   \n",
      " 6   IsActiveMember   10000 non-null  category\n",
      " 7   EstimatedSalary  10000 non-null  float64 \n",
      " 8   Exited           10000 non-null  int64   \n",
      "dtypes: category(3), float64(2), int64(4)\n",
      "memory usage: 498.5 KB\n"
     ]
    }
   ],
   "source": [
    "df.info()"
   ]
  },
  {
   "cell_type": "code",
   "execution_count": 7,
   "id": "b34f2e16",
   "metadata": {},
   "outputs": [],
   "source": [
    "df1=pd.get_dummies(df,drop_first=True)"
   ]
  },
  {
   "cell_type": "code",
   "execution_count": 8,
   "id": "48d234ef",
   "metadata": {},
   "outputs": [
    {
     "name": "stdout",
     "output_type": "stream",
     "text": [
      "<class 'pandas.core.frame.DataFrame'>\n",
      "RangeIndex: 10000 entries, 0 to 9999\n",
      "Data columns (total 10 columns):\n",
      " #   Column             Non-Null Count  Dtype  \n",
      "---  ------             --------------  -----  \n",
      " 0   CreditScore        10000 non-null  int64  \n",
      " 1   Age                10000 non-null  int64  \n",
      " 2   Balance            10000 non-null  float64\n",
      " 3   NumOfProducts      10000 non-null  int64  \n",
      " 4   EstimatedSalary    10000 non-null  float64\n",
      " 5   Exited             10000 non-null  int64  \n",
      " 6   Geography_Germany  10000 non-null  uint8  \n",
      " 7   Geography_Spain    10000 non-null  uint8  \n",
      " 8   Gender_Male        10000 non-null  uint8  \n",
      " 9   IsActiveMember_1   10000 non-null  uint8  \n",
      "dtypes: float64(2), int64(4), uint8(4)\n",
      "memory usage: 507.9 KB\n"
     ]
    }
   ],
   "source": [
    "df1.info()"
   ]
  },
  {
   "cell_type": "code",
   "execution_count": 9,
   "id": "54644677",
   "metadata": {},
   "outputs": [],
   "source": [
    "y=df1['Exited']\n",
    "X=df1.drop(\"Exited\",axis=1)"
   ]
  },
  {
   "cell_type": "code",
   "execution_count": 10,
   "id": "263c18ef",
   "metadata": {},
   "outputs": [
    {
     "name": "stdout",
     "output_type": "stream",
     "text": [
      "Shape of X_train is:  (8000, 9)\n",
      "Shape of X_test is:  (2000, 9)\n",
      "Shape of y_train is:  (8000,)\n",
      "Shape of y_test is:  (2000,)\n"
     ]
    }
   ],
   "source": [
    "X_train,X_test,y_train,y_test=train_test_split(X,y,test_size=0.2,random_state=42,stratify=y)\n",
    "print('Shape of X_train is: ',X_train.shape)\n",
    "print('Shape of X_test is: ',X_test.shape)\n",
    "print('Shape of y_train is: ',y_train.shape)\n",
    "print('Shape of y_test is: ',y_test.shape)"
   ]
  },
  {
   "cell_type": "code",
   "execution_count": 11,
   "id": "9122df93",
   "metadata": {},
   "outputs": [
    {
     "name": "stdout",
     "output_type": "stream",
     "text": [
      "Proportion of 0 in training set:  0.79625\n",
      "Proportion of 1 in training set:  0.20375\n",
      "Proportion of 0 in test set:  0.7965\n",
      "Proportion of 1 in test set:  0.2035\n"
     ]
    }
   ],
   "source": [
    "print(\"Proportion of 0 in training set: \",len(y_train[y_train==0])/len(y_train))\n",
    "print(\"Proportion of 1 in training set: \",len(y_train[y_train==1])/len(y_train))\n",
    "print(\"Proportion of 0 in test set: \",len(y_test[y_test==0])/len(y_test))\n",
    "print(\"Proportion of 1 in test set: \",len(y_test[y_test==1])/len(y_test))"
   ]
  },
  {
   "cell_type": "markdown",
   "id": "7510136b",
   "metadata": {},
   "source": [
    "## Logistic Regression Model"
   ]
  },
  {
   "cell_type": "code",
   "execution_count": 18,
   "id": "1d7f415c",
   "metadata": {},
   "outputs": [],
   "source": [
    "X_train_stand=X_train.values\n",
    "X_test_stand=X_test.values\n",
    "sc = StandardScaler()\n",
    "X_train_stand[:,0:5] = sc.fit_transform(X_train.values[:,0:5])\n",
    "X_test_stand[:,0:5] = sc.transform(X_test.values[:,0:5])"
   ]
  },
  {
   "cell_type": "code",
   "execution_count": 20,
   "id": "9000d4f4",
   "metadata": {},
   "outputs": [],
   "source": [
    "classifier = LogisticRegression(random_state=42)\n",
    "classifier.fit(X_train_stand, y_train)\n",
    "y_pred=classifier.predict(X_test_stand)"
   ]
  },
  {
   "cell_type": "code",
   "execution_count": 21,
   "id": "af87ccf4",
   "metadata": {},
   "outputs": [
    {
     "name": "stdout",
     "output_type": "stream",
     "text": [
      "[[1540   53]\n",
      " [ 330   77]]\n"
     ]
    }
   ],
   "source": [
    "cm = confusion_matrix(y_test, y_pred)\n",
    "print(cm)"
   ]
  },
  {
   "cell_type": "code",
   "execution_count": 22,
   "id": "34634f85",
   "metadata": {},
   "outputs": [
    {
     "name": "stdout",
     "output_type": "stream",
     "text": [
      "              precision    recall  f1-score   support\n",
      "\n",
      "           0       0.82      0.97      0.89      1593\n",
      "           1       0.59      0.19      0.29       407\n",
      "\n",
      "    accuracy                           0.81      2000\n",
      "   macro avg       0.71      0.58      0.59      2000\n",
      "weighted avg       0.78      0.81      0.77      2000\n",
      "\n"
     ]
    }
   ],
   "source": [
    "print(classification_report(y_test,y_pred))"
   ]
  },
  {
   "cell_type": "code",
   "execution_count": 23,
   "id": "79cd433f",
   "metadata": {},
   "outputs": [],
   "source": [
    "param_grid = [    \n",
    "    {'penalty' : ['l1', 'l2', 'elasticnet', 'none'],\n",
    "    'C' : np.logspace(-4, 4, 20),\n",
    "    'solver' : ['lbfgs','newton-cg','liblinear','sag','saga'],\n",
    "     'class_weight' : [{1:0.5, 0:0.5}, {1:0.4, 0:0.6}, {1:0.6, 0:0.4}, {1:0.7, 0:0.3}] \n",
    "    }\n",
    "]"
   ]
  },
  {
   "cell_type": "code",
   "execution_count": 24,
   "id": "772b258d",
   "metadata": {},
   "outputs": [
    {
     "name": "stdout",
     "output_type": "stream",
     "text": [
      "Fitting 3 folds for each of 1600 candidates, totalling 4800 fits\n"
     ]
    },
    {
     "name": "stderr",
     "output_type": "stream",
     "text": [
      "C:\\Users\\Admin\\anaconda3\\lib\\site-packages\\sklearn\\model_selection\\_search.py:918: UserWarning: One or more of the test scores are non-finite: [      nan       nan 0.        ...       nan 0.4817934 0.4817934]\n",
      "  warnings.warn(\n"
     ]
    },
    {
     "data": {
      "text/plain": [
       "LogisticRegression(C=0.08858667904100823, class_weight={0: 0.3, 1: 0.7},\n",
       "                   penalty='l1', random_state=42, solver='saga')"
      ]
     },
     "execution_count": 24,
     "metadata": {},
     "output_type": "execute_result"
    }
   ],
   "source": [
    "clf = GridSearchCV(classifier, param_grid = param_grid, cv = 3, verbose=True, n_jobs=-1,scoring='f1')\n",
    "best_clf = clf.fit(X_train_stand,y_train)\n",
    "best_clf.best_estimator_"
   ]
  },
  {
   "cell_type": "code",
   "execution_count": 25,
   "id": "39d98e5c",
   "metadata": {},
   "outputs": [
    {
     "name": "stdout",
     "output_type": "stream",
     "text": [
      "Best Params:  {'C': 0.08858667904100823, 'class_weight': {1: 0.7, 0: 0.3}, 'penalty': 'l1', 'solver': 'saga'}\n",
      "Best Score:  0.4851024208566108\n"
     ]
    }
   ],
   "source": [
    "print('Best Params: ', best_clf.best_params_) \n",
    "print('Best Score: ', best_clf.best_score_) "
   ]
  },
  {
   "cell_type": "code",
   "execution_count": 31,
   "id": "f0dac91b",
   "metadata": {},
   "outputs": [],
   "source": [
    "logreg=LogisticRegression(C=0.08858667904100823, class_weight={0: 0.3, 1: 0.7},\n",
    "                   penalty='l1', random_state=42, solver='saga')\n",
    "logreg.fit(X_train_stand,y_train)\n",
    "y_pred_logreg=logreg.predict(X_test_stand)"
   ]
  },
  {
   "cell_type": "code",
   "execution_count": 33,
   "id": "f20a235b",
   "metadata": {},
   "outputs": [
    {
     "name": "stdout",
     "output_type": "stream",
     "text": [
      "              precision    recall  f1-score   support\n",
      "\n",
      "           0       0.87      0.86      0.87      1593\n",
      "           1       0.49      0.51      0.50       407\n",
      "\n",
      "    accuracy                           0.79      2000\n",
      "   macro avg       0.68      0.69      0.68      2000\n",
      "weighted avg       0.80      0.79      0.79      2000\n",
      "\n"
     ]
    },
    {
     "data": {
      "text/plain": [
       "array([[1377,  216],\n",
       "       [ 200,  207]], dtype=int64)"
      ]
     },
     "execution_count": 33,
     "metadata": {},
     "output_type": "execute_result"
    }
   ],
   "source": [
    "print(classification_report(y_test,y_pred_logreg))\n",
    "#Logistic Regression (Grid Search) Confusion matrix\n",
    "confusion_matrix(y_test,y_pred_logreg)"
   ]
  },
  {
   "cell_type": "code",
   "execution_count": 34,
   "id": "5b9b7a8d",
   "metadata": {},
   "outputs": [
    {
     "data": {
      "text/plain": [
       "<sklearn.metrics._plot.precision_recall_curve.PrecisionRecallDisplay at 0x139ebb90b50>"
      ]
     },
     "execution_count": 34,
     "metadata": {},
     "output_type": "execute_result"
    },
    {
     "data": {
      "image/png": "[encoded data removed]",
      "text/plain": [
       "<Figure size 432x288 with 1 Axes>"
      ]
     },
     "metadata": {
      "needs_background": "light"
     },
     "output_type": "display_data"
    }
   ],
   "source": [
    "plot_precision_recall_curve(logreg, X_test_stand,y_test)"
   ]
  },
  {
   "cell_type": "markdown",
   "id": "fac13130",
   "metadata": {},
   "source": [
    "## Decision Tree Model"
   ]
  },
  {
   "cell_type": "code",
   "execution_count": 50,
   "id": "6b502a2b",
   "metadata": {},
   "outputs": [
    {
     "data": {
      "text/plain": [
       "array([0, 0, 0, ..., 0, 0, 0], dtype=int64)"
      ]
     },
     "execution_count": 50,
     "metadata": {},
     "output_type": "execute_result"
    }
   ],
   "source": [
    "#Model fitting with fixed parameters of Decision tree\n",
    "model_dt = DecisionTreeClassifier(criterion = 'gini', random_state = 10, max_depth = 3, min_samples_leaf = 8)\n",
    "model_dt.fit(X_train,y_train)\n",
    "y_pred = model_dt.predict(X_test)\n",
    "y_pred"
   ]
  },
  {
   "cell_type": "code",
   "execution_count": 51,
   "id": "43c98480",
   "metadata": {},
   "outputs": [
    {
     "name": "stdout",
     "output_type": "stream",
     "text": [
      "[[1579   14]\n",
      " [ 310   97]]\n"
     ]
    }
   ],
   "source": [
    "print(confusion_matrix(y_test, y_pred))"
   ]
  },
  {
   "cell_type": "code",
   "execution_count": 53,
   "id": "080ad9cc",
   "metadata": {},
   "outputs": [
    {
     "name": "stdout",
     "output_type": "stream",
     "text": [
      "              precision    recall  f1-score   support\n",
      "\n",
      "           0       0.84      0.99      0.91      1593\n",
      "           1       0.87      0.24      0.37       407\n",
      "\n",
      "    accuracy                           0.84      2000\n",
      "   macro avg       0.85      0.61      0.64      2000\n",
      "weighted avg       0.84      0.84      0.80      2000\n",
      "\n"
     ]
    }
   ],
   "source": [
    "print(classification_report(y_test,y_pred, labels = [0,1]))"
   ]
  },
  {
   "cell_type": "code",
   "execution_count": 54,
   "id": "20618bf2",
   "metadata": {},
   "outputs": [],
   "source": [
    "#Build Decision Tree model with hyperparameter tuning\n",
    "parameters = {'criterion': ('gini','entropy')\n",
    "              , 'max_depth': np.arange(3,20)\n",
    "              , 'max_features': ('auto','sqrt','log2')\n",
    "              , 'min_samples_split': np.arange(2,20)\n",
    "              , 'min_samples_leaf' : np.arange(2,30)\n",
    "             }"
   ]
  },
  {
   "cell_type": "code",
   "execution_count": 73,
   "id": "51bae760",
   "metadata": {},
   "outputs": [
    {
     "name": "stdout",
     "output_type": "stream",
     "text": [
      "Fitting 5 folds for each of 10 candidates, totalling 50 fits\n",
      "DecisionTreeClassifier(criterion='entropy', max_depth=14, max_features='sqrt',\n",
      "                       min_samples_leaf=8, min_samples_split=19)\n",
      "{'min_samples_split': 19, 'min_samples_leaf': 8, 'max_features': 'sqrt', 'max_depth': 14, 'criterion': 'entropy'}\n",
      "0.5455785160470639\n"
     ]
    }
   ],
   "source": [
    "DT_grid = RandomizedSearchCV(DecisionTreeClassifier(), param_distributions = parameters, cv = 5,scoring='f1',verbose = True)\n",
    "DT_grid.fit(X_train, y_train)\n",
    "print(DT_grid.best_estimator_)\n",
    "print(DT_grid.best_params_)\n",
    "print(DT_grid.best_score_)"
   ]
  },
  {
   "cell_type": "code",
   "execution_count": 37,
   "id": "e1a9d0ac",
   "metadata": {},
   "outputs": [
    {
     "data": {
      "text/plain": [
       "array([0, 0, 0, ..., 1, 0, 0], dtype=int64)"
      ]
     },
     "execution_count": 37,
     "metadata": {},
     "output_type": "execute_result"
    }
   ],
   "source": [
    "#Rebuild model with best estimators\n",
    "#DT_Model = DT_grid.best_estimator_\n",
    "DT_Model = DecisionTreeClassifier(criterion='entropy', max_depth=14, max_features='sqrt',\n",
    "                       min_samples_leaf=8, min_samples_split=19,random_state=3)\n",
    "DT_Model.fit(X_train, y_train)\n",
    "y_pred_dt = DT_Model.predict(X_test)\n",
    "y_pred_dt"
   ]
  },
  {
   "cell_type": "code",
   "execution_count": 38,
   "id": "9b7b9d1e",
   "metadata": {},
   "outputs": [
    {
     "name": "stdout",
     "output_type": "stream",
     "text": [
      "[[1520   73]\n",
      " [ 229  178]]\n",
      "              precision    recall  f1-score   support\n",
      "\n",
      "           0       0.87      0.95      0.91      1593\n",
      "           1       0.71      0.44      0.54       407\n",
      "\n",
      "    accuracy                           0.85      2000\n",
      "   macro avg       0.79      0.70      0.73      2000\n",
      "weighted avg       0.84      0.85      0.83      2000\n",
      "\n"
     ]
    }
   ],
   "source": [
    "print(confusion_matrix(y_test, y_pred_dt))\n",
    "print(classification_report(y_test, y_pred_dt))"
   ]
  },
  {
   "cell_type": "code",
   "execution_count": 39,
   "id": "ff087be6",
   "metadata": {},
   "outputs": [
    {
     "data": {
      "text/plain": [
       "Text(0.5, 1.0, '2-class Precision-Recall curve ')"
      ]
     },
     "execution_count": 39,
     "metadata": {},
     "output_type": "execute_result"
    },
    {
     "data": {
      "image/png": "[encoded data removed]",
      "text/plain": [
       "<Figure size 432x288 with 1 Axes>"
      ]
     },
     "metadata": {
      "needs_background": "light"
     },
     "output_type": "display_data"
    }
   ],
   "source": [
    "precision = precision_score(y_test,y_pred_dt)\n",
    "disp = plot_precision_recall_curve(DT_Model, X_test, y_test)\n",
    "disp.ax_.set_title('2-class Precision-Recall curve ')"
   ]
  },
  {
   "cell_type": "code",
   "execution_count": 49,
   "id": "bcaa139f",
   "metadata": {},
   "outputs": [
    {
     "data": {
      "text/plain": [
       "<AxesSubplot:title={'center':'FEATURE IMPORTANCES'}>"
      ]
     },
     "execution_count": 49,
     "metadata": {},
     "output_type": "execute_result"
    },
    {
     "data": {
      "image/png": "[encoded data removed]",
      "text/plain": [
       "<Figure size 432x288 with 1 Axes>"
      ]
     },
     "metadata": {
      "needs_background": "light"
     },
     "output_type": "display_data"
    }
   ],
   "source": [
    "feat_imp=pd.Series(DT_Model.feature_importances_,index=X_train.columns)\n",
    "plt.title(\"FEATURE IMPORTANCES\")\n",
    "feat_imp.nlargest(9).plot(kind='barh')"
   ]
  },
  {
   "cell_type": "code",
   "execution_count": 50,
   "id": "2eeb0f09",
   "metadata": {},
   "outputs": [
    {
     "data": {
      "text/plain": [
       "[(0.34252029867164724, 'Age'),\n",
       " (0.23622868647944154, 'NumOfProducts'),\n",
       " (0.1264249357341593, 'Balance'),\n",
       " (0.08358877533846913, 'EstimatedSalary'),\n",
       " (0.08271133539280778, 'CreditScore'),\n",
       " (0.06010665055067603, 'Geography_Germany'),\n",
       " (0.04512480802179597, 'IsActiveMember_1'),\n",
       " (0.015585508584862896, 'Gender_Male'),\n",
       " (0.007709001226140102, 'Geography_Spain')]"
      ]
     },
     "execution_count": 50,
     "metadata": {},
     "output_type": "execute_result"
    }
   ],
   "source": [
    "feature_imp=DT_Model.feature_importances_\n",
    "columns=['CreditScore', 'Age', 'Balance', 'NumOfProducts', 'EstimatedSalary','Geography_Germany', 'Geography_Spain', 'Gender_Male','IsActiveMember_1']\n",
    "sorted(zip(feature_imp,columns),reverse=True)"
   ]
  },
  {
   "cell_type": "markdown",
   "id": "db34ef7e",
   "metadata": {},
   "source": [
    "## Random Forests"
   ]
  },
  {
   "cell_type": "code",
   "execution_count": 50,
   "id": "824b746c",
   "metadata": {},
   "outputs": [
    {
     "name": "stdout",
     "output_type": "stream",
     "text": [
      "{'n_estimators': 500, 'min_samples_split': 30, 'min_samples_leaf': 4, 'max_features': 5, 'max_depth': 19, 'criterion': 'gini'}\n",
      "0.5859080843250969\n",
      "Wall time: 1min 15s\n"
     ]
    }
   ],
   "source": [
    "%%time\n",
    "rf=RandomForestClassifier(random_state=42)\n",
    "param_grid={'max_depth':np.arange(2,25),'max_features':np.arange(1,6),'min_samples_leaf':np.arange(4,40),'min_samples_split':np.arange(5,50),'n_estimators':[100,200,300,400,500,600],'criterion':['gini','entropy']}\n",
    "random_search=RandomizedSearchCV(rf,param_grid,cv=5,scoring='f1',n_jobs=-1)\n",
    "random_search.fit(X_train,y_train)\n",
    "print(random_search.best_params_)\n",
    "print(random_search.best_score_)"
   ]
  },
  {
   "cell_type": "code",
   "execution_count": 40,
   "id": "a855ff71",
   "metadata": {},
   "outputs": [],
   "source": [
    "rf_randomized=RandomForestClassifier(max_depth=19,max_features=5,min_samples_leaf=4,min_samples_split=30,n_estimators=500,criterion='gini')\n",
    "rf_randomized.fit(X_train,y_train)\n",
    "y_pred=rf_randomized.predict(X_test)\n",
    "y_pred_prob=rf_randomized.predict_proba(X_test)[:,1]"
   ]
  },
  {
   "cell_type": "code",
   "execution_count": 41,
   "id": "82c1ca6e",
   "metadata": {},
   "outputs": [
    {
     "name": "stdout",
     "output_type": "stream",
     "text": [
      "              precision    recall  f1-score   support\n",
      "\n",
      "           0       0.87      0.96      0.92      1593\n",
      "           1       0.77      0.46      0.57       407\n",
      "\n",
      "    accuracy                           0.86      2000\n",
      "   macro avg       0.82      0.71      0.75      2000\n",
      "weighted avg       0.85      0.86      0.85      2000\n",
      "\n"
     ]
    }
   ],
   "source": [
    "print(classification_report(y_test,y_pred))"
   ]
  },
  {
   "cell_type": "code",
   "execution_count": 48,
   "id": "ad10fa27",
   "metadata": {},
   "outputs": [
    {
     "data": {
      "text/plain": [
       "<sklearn.metrics._plot.precision_recall_curve.PrecisionRecallDisplay at 0x139ebbb8d60>"
      ]
     },
     "execution_count": 48,
     "metadata": {},
     "output_type": "execute_result"
    },
    {
     "data": {
      "image/png": "[encoded data removed]",
      "text/plain": [
       "<Figure size 432x288 with 1 Axes>"
      ]
     },
     "metadata": {
      "needs_background": "light"
     },
     "output_type": "display_data"
    }
   ],
   "source": [
    "plot_precision_recall_curve(rf_randomized,X_test,y_test)"
   ]
  },
  {
   "cell_type": "code",
   "execution_count": 15,
   "id": "80ca60df",
   "metadata": {},
   "outputs": [
    {
     "data": {
      "text/plain": [
       "<AxesSubplot:title={'center':'FEATURE IMPORTANCES'}>"
      ]
     },
     "execution_count": 15,
     "metadata": {},
     "output_type": "execute_result"
    },
    {
     "data": {
      "image/png": "[encoded data removed]",
      "text/plain": [
       "<Figure size 432x288 with 1 Axes>"
      ]
     },
     "metadata": {
      "needs_background": "light"
     },
     "output_type": "display_data"
    }
   ],
   "source": [
    "feat_imp=pd.Series(rf_randomized.feature_importances_,index=X_train.columns)\n",
    "plt.title(\"FEATURE IMPORTANCES\")\n",
    "feat_imp.nlargest(9).plot(kind='barh')"
   ]
  },
  {
   "cell_type": "code",
   "execution_count": 21,
   "id": "aa9c0d7b",
   "metadata": {},
   "outputs": [
    {
     "data": {
      "text/plain": [
       "[(0.32258162977375676, 'Age'),\n",
       " (0.23512785080071033, 'NumOfProducts'),\n",
       " (0.13375564390716793, 'Balance'),\n",
       " (0.08401145124927219, 'IsActiveMember_1'),\n",
       " (0.07918581378931173, 'EstimatedSalary'),\n",
       " (0.07854832203703298, 'CreditScore'),\n",
       " (0.045884587775520576, 'Geography_Germany'),\n",
       " (0.013094899070297377, 'Gender_Male'),\n",
       " (0.007809801596929963, 'Geography_Spain')]"
      ]
     },
     "execution_count": 21,
     "metadata": {},
     "output_type": "execute_result"
    }
   ],
   "source": [
    "feature_imp=rf_randomized.feature_importances_\n",
    "columns=['CreditScore', 'Age', 'Balance', 'NumOfProducts', 'EstimatedSalary','Geography_Germany', 'Geography_Spain', 'Gender_Male','IsActiveMember_1']\n",
    "sorted(zip(feature_imp,columns),reverse=True)"
   ]
  },
  {
   "cell_type": "markdown",
   "id": "ea8b5577",
   "metadata": {},
   "source": [
    "## Plotting Precision Recall curves for all 3 models"
   ]
  },
  {
   "cell_type": "code",
   "execution_count": 47,
   "id": "e8e33e31",
   "metadata": {},
   "outputs": [
    {
     "data": {
      "image/png": "[encoded data removed]",
      "text/plain": [
       "<Figure size 432x360 with 1 Axes>"
      ]
     },
     "metadata": {
      "needs_background": "light"
     },
     "output_type": "display_data"
    }
   ],
   "source": [
    "plt.figure(figsize=(6,5))\n",
    "plot_precision_recall_curve(rf_randomized,X_test,y_test,ax=plt.gca(),name='RandomForest')\n",
    "plot_precision_recall_curve(DT_Model,X_test,y_test,ax=plt.gca(),name='DecisionTree')\n",
    "plot_precision_recall_curve(logreg,X_test_stand,y_test,ax=plt.gca(),name='LogisticRegression')\n",
    "plt.show()"
   ]
  },
  {
   "cell_type": "markdown",
   "id": "29501008",
   "metadata": {},
   "source": [
    "### Random forest is giving us better results, thus we will consider this as the final model.\n"
   ]
  },
  {
   "cell_type": "markdown",
   "id": "eae7e9d4",
   "metadata": {},
   "source": [
    "# SMOTE-NC for balancing the target classes"
   ]
  },
  {
   "cell_type": "code",
   "execution_count": 13,
   "id": "754b862d",
   "metadata": {},
   "outputs": [
    {
     "data": {
      "text/plain": [
       "Index(['CreditScore', 'Age', 'Balance', 'NumOfProducts', 'EstimatedSalary',\n",
       "       'Geography_Germany', 'Geography_Spain', 'Gender_Male',\n",
       "       'IsActiveMember_1'],\n",
       "      dtype='object')"
      ]
     },
     "execution_count": 13,
     "metadata": {},
     "output_type": "execute_result"
    }
   ],
   "source": [
    "X_train.columns"
   ]
  },
  {
   "cell_type": "code",
   "execution_count": 52,
   "id": "4a6d5828",
   "metadata": {},
   "outputs": [],
   "source": [
    "smotenc=SMOTENC([5,6,7,8],random_state=999)"
   ]
  },
  {
   "cell_type": "code",
   "execution_count": 53,
   "id": "b22f4826",
   "metadata": {},
   "outputs": [],
   "source": [
    "X_oversample,y_oversample=smotenc.fit_resample(X_train,y_train)"
   ]
  },
  {
   "cell_type": "markdown",
   "id": "2bfbcfc6",
   "metadata": {},
   "source": [
    "## Random forest model"
   ]
  },
  {
   "cell_type": "code",
   "execution_count": 16,
   "id": "0bf24136",
   "metadata": {},
   "outputs": [
    {
     "name": "stdout",
     "output_type": "stream",
     "text": [
      "{'n_estimators': 300, 'min_samples_split': 39, 'min_samples_leaf': 21, 'max_features': 4, 'max_depth': 24, 'criterion': 'entropy'}\n",
      "0.8145862564073607\n",
      "Wall time: 2min 30s\n"
     ]
    }
   ],
   "source": [
    "%%time\n",
    "rf2=RandomForestClassifier(random_state=42)\n",
    "param_grid2={'max_depth':np.arange(2,25),'max_features':np.arange(1,6),'min_samples_leaf':np.arange(4,40),'min_samples_split':np.arange(5,50),'n_estimators':[100,200,300,400,500,600],'criterion':['gini','entropy']}\n",
    "random_search2=RandomizedSearchCV(rf2,param_grid2,cv=5,scoring='f1',n_jobs=-1)\n",
    "random_search2.fit(X_oversample,y_oversample)\n",
    "print(random_search2.best_params_)\n",
    "print(random_search2.best_score_)"
   ]
  },
  {
   "cell_type": "code",
   "execution_count": 33,
   "id": "8d444065",
   "metadata": {},
   "outputs": [],
   "source": [
    "rf_randomized2=RandomForestClassifier(max_depth=24,max_features=4,min_samples_leaf=21,min_samples_split=39,n_estimators=300,criterion='entropy')\n",
    "rf_randomized2.fit(X_oversample,y_oversample)\n",
    "y_pred=rf_randomized2.predict(X_test)\n",
    "y_pred_prob=rf_randomized2.predict_proba(X_test)[:,1]"
   ]
  },
  {
   "cell_type": "code",
   "execution_count": 80,
   "id": "fc28681d",
   "metadata": {},
   "outputs": [
    {
     "data": {
      "text/plain": [
       "<sklearn.metrics._plot.precision_recall_curve.PrecisionRecallDisplay at 0x1f91b07bc70>"
      ]
     },
     "execution_count": 80,
     "metadata": {},
     "output_type": "execute_result"
    },
    {
     "data": {
      "image/png": "[encoded data removed]",
      "text/plain": [
       "<Figure size 432x288 with 1 Axes>"
      ]
     },
     "metadata": {
      "needs_background": "light"
     },
     "output_type": "display_data"
    }
   ],
   "source": [
    "plot_precision_recall_curve(rf_randomized2,X_test,y_test)"
   ]
  },
  {
   "cell_type": "code",
   "execution_count": 20,
   "id": "fa86e0e8",
   "metadata": {},
   "outputs": [
    {
     "name": "stdout",
     "output_type": "stream",
     "text": [
      "              precision    recall  f1-score   support\n",
      "\n",
      "           0       0.92      0.82      0.87      1593\n",
      "           1       0.52      0.73      0.61       407\n",
      "\n",
      "    accuracy                           0.81      2000\n",
      "   macro avg       0.72      0.78      0.74      2000\n",
      "weighted avg       0.84      0.81      0.82      2000\n",
      "\n"
     ]
    }
   ],
   "source": [
    "print(classification_report(y_test,y_pred))"
   ]
  },
  {
   "cell_type": "code",
   "execution_count": 23,
   "id": "edd01a73",
   "metadata": {},
   "outputs": [
    {
     "data": {
      "image/png": "[encoded data removed]",
      "text/plain": [
       "<Figure size 432x288 with 1 Axes>"
      ]
     },
     "metadata": {
      "needs_background": "light"
     },
     "output_type": "display_data"
    }
   ],
   "source": [
    "precision,recall,threshold=precision_recall_curve(y_test,y_pred_prob)\n",
    "plt.plot(threshold,precision[:-1],'b-',label='Precision')\n",
    "plt.plot(threshold,recall[:-1],'r-',label='Recall')\n",
    "plt.xlabel(\"Threshold\")\n",
    "plt.ylabel(\"Precision-Recall\")\n",
    "plt.title(\"Precision-Recall-Threshold Curve\")\n",
    "plt.legend()\n",
    "plt.show()"
   ]
  },
  {
   "cell_type": "code",
   "execution_count": 24,
   "id": "d730c883",
   "metadata": {},
   "outputs": [
    {
     "data": {
      "text/plain": [
       "<AxesSubplot:title={'center':'FEATURE IMPORTANCES'}>"
      ]
     },
     "execution_count": 24,
     "metadata": {},
     "output_type": "execute_result"
    },
    {
     "data": {
      "image/png": "[encoded data removed]",
      "text/plain": [
       "<Figure size 432x288 with 1 Axes>"
      ]
     },
     "metadata": {
      "needs_background": "light"
     },
     "output_type": "display_data"
    }
   ],
   "source": [
    "feat_imp=pd.Series(rf_randomized2.feature_importances_,index=X_train.columns)\n",
    "plt.title(\"FEATURE IMPORTANCES\")\n",
    "feat_imp.nlargest(9).plot(kind='barh')"
   ]
  },
  {
   "cell_type": "code",
   "execution_count": 27,
   "id": "1dbb209a",
   "metadata": {},
   "outputs": [
    {
     "data": {
      "text/plain": [
       "[(0.3334236934318283, 'Age'),\n",
       " (0.19686962847530332, 'NumOfProducts'),\n",
       " (0.1344547828234957, 'Balance'),\n",
       " (0.11291497520548335, 'IsActiveMember_1'),\n",
       " (0.06394950597744913, 'EstimatedSalary'),\n",
       " (0.05722567170000316, 'Geography_Germany'),\n",
       " (0.048126507257558404, 'CreditScore'),\n",
       " (0.03379022942313568, 'Gender_Male'),\n",
       " (0.019245005705743033, 'Geography_Spain')]"
      ]
     },
     "execution_count": 27,
     "metadata": {},
     "output_type": "execute_result"
    }
   ],
   "source": [
    "feature_imp=rf_randomized2.feature_importances_\n",
    "sorted(zip(feature_imp,X_train.columns),reverse=True)"
   ]
  },
  {
   "cell_type": "markdown",
   "id": "19255d83",
   "metadata": {},
   "source": [
    "## Decision Tree Model"
   ]
  },
  {
   "cell_type": "code",
   "execution_count": 30,
   "id": "2c93cfcd",
   "metadata": {},
   "outputs": [
    {
     "name": "stdout",
     "output_type": "stream",
     "text": [
      "{'min_samples_split': 17, 'min_samples_leaf': 16, 'max_features': 5, 'max_depth': 8, 'criterion': 'entropy'}\n",
      "0.7934850296666509\n"
     ]
    }
   ],
   "source": [
    "dt=DecisionTreeClassifier(random_state=12)\n",
    "param_grid_dt={'max_depth':np.arange(2,25),'max_features':np.arange(1,6),'min_samples_leaf':np.arange(4,40),'min_samples_split':np.arange(5,50),'criterion':['gini','entropy']}\n",
    "random_search_dt=RandomizedSearchCV(dt,param_grid_dt,cv=5,scoring='f1',n_jobs=-1)\n",
    "random_search_dt.fit(X_oversample,y_oversample)\n",
    "print(random_search_dt.best_params_)\n",
    "print(random_search_dt.best_score_)"
   ]
  },
  {
   "cell_type": "code",
   "execution_count": 54,
   "id": "9bc6e7ec",
   "metadata": {},
   "outputs": [],
   "source": [
    "dt_smote=DecisionTreeClassifier(min_samples_split= 17, min_samples_leaf= 16, max_features= 5, max_depth= 8, criterion= 'entropy',random_state=12)\n",
    "dt_smote.fit(X_oversample,y_oversample)\n",
    "y_pred_smote_dt=dt_smote.predict(X_test)\n",
    "y_predprob_smote_dt=dt_smote.predict_proba(X_test)[:,1]"
   ]
  },
  {
   "cell_type": "code",
   "execution_count": 55,
   "id": "4d98a584",
   "metadata": {},
   "outputs": [
    {
     "name": "stdout",
     "output_type": "stream",
     "text": [
      "              precision    recall  f1-score   support\n",
      "\n",
      "           0       0.92      0.79      0.85      1593\n",
      "           1       0.48      0.74      0.58       407\n",
      "\n",
      "    accuracy                           0.78      2000\n",
      "   macro avg       0.70      0.77      0.72      2000\n",
      "weighted avg       0.83      0.78      0.80      2000\n",
      "\n"
     ]
    }
   ],
   "source": [
    "print(classification_report(y_test,y_pred_smote_dt))"
   ]
  },
  {
   "cell_type": "code",
   "execution_count": 56,
   "id": "3b3bf83e",
   "metadata": {},
   "outputs": [
    {
     "data": {
      "text/plain": [
       "<sklearn.metrics._plot.precision_recall_curve.PrecisionRecallDisplay at 0x139ee9f7b20>"
      ]
     },
     "execution_count": 56,
     "metadata": {},
     "output_type": "execute_result"
    },
    {
     "data": {
      "image/png": "[encoded data removed]",
      "text/plain": [
       "<Figure size 432x288 with 1 Axes>"
      ]
     },
     "metadata": {
      "needs_background": "light"
     },
     "output_type": "display_data"
    }
   ],
   "source": [
    "plot_precision_recall_curve(dt_smote,X_test,y_test)"
   ]
  },
  {
   "cell_type": "markdown",
   "id": "ecfd8392",
   "metadata": {},
   "source": [
    "### Using SMOTE, we are getting a model which is overfitting the training dataset. Thus we will refrain ourselves from using SMOTE."
   ]
  },
  {
   "cell_type": "code",
   "execution_count": null,
   "id": "ac83d135",
   "metadata": {},
   "outputs": [],
   "source": []
  }
 ],
 "metadata": {
  "kernelspec": {
   "display_name": "Python 3",
   "language": "python",
   "name": "python3"
  },
  "language_info": {
   "codemirror_mode": {
    "name": "ipython",
    "version": 3
   },
   "file_extension": ".py",
   "mimetype": "text/x-python",
   "name": "python",
   "nbconvert_exporter": "python",
   "pygments_lexer": "ipython3",
   "version": "3.8.8"
  }
 },
 "nbformat": 4,
 "nbformat_minor": 5
}
