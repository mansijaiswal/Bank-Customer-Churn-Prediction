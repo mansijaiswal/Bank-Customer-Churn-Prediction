{
 "cells": [
  {
   "cell_type": "markdown",
   "id": "6573b4d0",
   "metadata": {},
   "source": [
    "# Exploratory Data Analysis\n"
   ]
  },
  {
   "cell_type": "code",
   "execution_count": 3,
   "id": "a8a79903",
   "metadata": {},
   "outputs": [],
   "source": [
    "import pandas as pd\n",
    "import seaborn as sns\n",
    "import matplotlib.pyplot as plt\n",
    "from scipy.stats import norm,chi2_contingency\n",
    "import warnings\n",
    "warnings.simplefilter(\"ignore\")"
   ]
  },
  {
   "cell_type": "markdown",
   "id": "8b0eaf47",
   "metadata": {},
   "source": [
    "### - <u>Importing our Data Set</u>"
   ]
  },
  {
   "cell_type": "code",
   "execution_count": 18,
   "id": "fcf38930",
   "metadata": {},
   "outputs": [
    {
     "data": {
      "text/plain": [
       "(10000, 14)"
      ]
     },
     "execution_count": 18,
     "metadata": {},
     "output_type": "execute_result"
    }
   ],
   "source": [
    "df = pd.read_csv('C:\\\\Users\\\\91880\\\\Downloads\\\\customerchurnprediction.csv', delimiter=',')\n",
    "#Shape of the dataset.\n",
    "df.shape"
   ]
  },
  {
   "cell_type": "markdown",
   "id": "869c9b59",
   "metadata": {},
   "source": [
    "\n",
    "<div class=\"alert alert-block alert-info\">\n",
    "INSIGHT : There are 10000 rows of observations corresponding to 14 features in the dataset.\n",
    "\n",
    "\n"
   ]
  },
  {
   "cell_type": "code",
   "execution_count": 19,
   "id": "a24f896e",
   "metadata": {},
   "outputs": [
    {
     "data": {
      "text/html": [
       "<div>\n",
       "<style scoped>\n",
       "    .dataframe tbody tr th:only-of-type {\n",
       "        vertical-align: middle;\n",
       "    }\n",
       "\n",
       "    .dataframe tbody tr th {\n",
       "        vertical-align: top;\n",
       "    }\n",
       "\n",
       "    .dataframe thead th {\n",
       "        text-align: right;\n",
       "    }\n",
       "</style>\n",
       "<table border=\"1\" class=\"dataframe\">\n",
       "  <thead>\n",
       "    <tr style=\"text-align: right;\">\n",
       "      <th></th>\n",
       "      <th>RowNumber</th>\n",
       "      <th>CustomerId</th>\n",
       "      <th>Surname</th>\n",
       "      <th>CreditScore</th>\n",
       "      <th>Geography</th>\n",
       "      <th>Gender</th>\n",
       "      <th>Age</th>\n",
       "      <th>Tenure</th>\n",
       "      <th>Balance</th>\n",
       "      <th>NumOfProducts</th>\n",
       "      <th>HasCrCard</th>\n",
       "      <th>IsActiveMember</th>\n",
       "      <th>EstimatedSalary</th>\n",
       "      <th>Exited</th>\n",
       "    </tr>\n",
       "  </thead>\n",
       "  <tbody>\n",
       "    <tr>\n",
       "      <th>0</th>\n",
       "      <td>1</td>\n",
       "      <td>15634602</td>\n",
       "      <td>Hargrave</td>\n",
       "      <td>619</td>\n",
       "      <td>France</td>\n",
       "      <td>Female</td>\n",
       "      <td>42</td>\n",
       "      <td>2</td>\n",
       "      <td>0.00</td>\n",
       "      <td>1</td>\n",
       "      <td>1</td>\n",
       "      <td>1</td>\n",
       "      <td>101348.88</td>\n",
       "      <td>1</td>\n",
       "    </tr>\n",
       "    <tr>\n",
       "      <th>1</th>\n",
       "      <td>2</td>\n",
       "      <td>15647311</td>\n",
       "      <td>Hill</td>\n",
       "      <td>608</td>\n",
       "      <td>Spain</td>\n",
       "      <td>Female</td>\n",
       "      <td>41</td>\n",
       "      <td>1</td>\n",
       "      <td>83807.86</td>\n",
       "      <td>1</td>\n",
       "      <td>0</td>\n",
       "      <td>1</td>\n",
       "      <td>112542.58</td>\n",
       "      <td>0</td>\n",
       "    </tr>\n",
       "    <tr>\n",
       "      <th>2</th>\n",
       "      <td>3</td>\n",
       "      <td>15619304</td>\n",
       "      <td>Onio</td>\n",
       "      <td>502</td>\n",
       "      <td>France</td>\n",
       "      <td>Female</td>\n",
       "      <td>42</td>\n",
       "      <td>8</td>\n",
       "      <td>159660.80</td>\n",
       "      <td>3</td>\n",
       "      <td>1</td>\n",
       "      <td>0</td>\n",
       "      <td>113931.57</td>\n",
       "      <td>1</td>\n",
       "    </tr>\n",
       "    <tr>\n",
       "      <th>3</th>\n",
       "      <td>4</td>\n",
       "      <td>15701354</td>\n",
       "      <td>Boni</td>\n",
       "      <td>699</td>\n",
       "      <td>France</td>\n",
       "      <td>Female</td>\n",
       "      <td>39</td>\n",
       "      <td>1</td>\n",
       "      <td>0.00</td>\n",
       "      <td>2</td>\n",
       "      <td>0</td>\n",
       "      <td>0</td>\n",
       "      <td>93826.63</td>\n",
       "      <td>0</td>\n",
       "    </tr>\n",
       "    <tr>\n",
       "      <th>4</th>\n",
       "      <td>5</td>\n",
       "      <td>15737888</td>\n",
       "      <td>Mitchell</td>\n",
       "      <td>850</td>\n",
       "      <td>Spain</td>\n",
       "      <td>Female</td>\n",
       "      <td>43</td>\n",
       "      <td>2</td>\n",
       "      <td>125510.82</td>\n",
       "      <td>1</td>\n",
       "      <td>1</td>\n",
       "      <td>1</td>\n",
       "      <td>79084.10</td>\n",
       "      <td>0</td>\n",
       "    </tr>\n",
       "  </tbody>\n",
       "</table>\n",
       "</div>"
      ],
      "text/plain": [
       "   RowNumber  CustomerId   Surname  CreditScore Geography  Gender  Age  \\\n",
       "0          1    15634602  Hargrave          619    France  Female   42   \n",
       "1          2    15647311      Hill          608     Spain  Female   41   \n",
       "2          3    15619304      Onio          502    France  Female   42   \n",
       "3          4    15701354      Boni          699    France  Female   39   \n",
       "4          5    15737888  Mitchell          850     Spain  Female   43   \n",
       "\n",
       "   Tenure    Balance  NumOfProducts  HasCrCard  IsActiveMember  \\\n",
       "0       2       0.00              1          1               1   \n",
       "1       1   83807.86              1          0               1   \n",
       "2       8  159660.80              3          1               0   \n",
       "3       1       0.00              2          0               0   \n",
       "4       2  125510.82              1          1               1   \n",
       "\n",
       "   EstimatedSalary  Exited  \n",
       "0        101348.88       1  \n",
       "1        112542.58       0  \n",
       "2        113931.57       1  \n",
       "3         93826.63       0  \n",
       "4         79084.10       0  "
      ]
     },
     "execution_count": 19,
     "metadata": {},
     "output_type": "execute_result"
    }
   ],
   "source": [
    "df.head()"
   ]
  },
  {
   "cell_type": "code",
   "execution_count": 20,
   "id": "11cd1519",
   "metadata": {},
   "outputs": [
    {
     "name": "stdout",
     "output_type": "stream",
     "text": [
      "<class 'pandas.core.frame.DataFrame'>\n",
      "RangeIndex: 10000 entries, 0 to 9999\n",
      "Data columns (total 14 columns):\n",
      " #   Column           Non-Null Count  Dtype  \n",
      "---  ------           --------------  -----  \n",
      " 0   RowNumber        10000 non-null  int64  \n",
      " 1   CustomerId       10000 non-null  int64  \n",
      " 2   Surname          10000 non-null  object \n",
      " 3   CreditScore      10000 non-null  int64  \n",
      " 4   Geography        10000 non-null  object \n",
      " 5   Gender           10000 non-null  object \n",
      " 6   Age              10000 non-null  int64  \n",
      " 7   Tenure           10000 non-null  int64  \n",
      " 8   Balance          10000 non-null  float64\n",
      " 9   NumOfProducts    10000 non-null  int64  \n",
      " 10  HasCrCard        10000 non-null  int64  \n",
      " 11  IsActiveMember   10000 non-null  int64  \n",
      " 12  EstimatedSalary  10000 non-null  float64\n",
      " 13  Exited           10000 non-null  int64  \n",
      "dtypes: float64(2), int64(9), object(3)\n",
      "memory usage: 1.1+ MB\n"
     ]
    }
   ],
   "source": [
    "#Checking for the missing value in dataset\n",
    "df.info()"
   ]
  },
  {
   "cell_type": "markdown",
   "id": "ec80b3b2",
   "metadata": {},
   "source": [
    "\n",
    "<div class=\"alert alert-block alert-info\">\n",
    "<b>INSIGHT : There are no missing values in the dataset</b> \n"
   ]
  },
  {
   "cell_type": "code",
   "execution_count": 21,
   "id": "d3dd43c1",
   "metadata": {},
   "outputs": [
    {
     "data": {
      "text/plain": [
       "Index(['CreditScore', 'Geography', 'Gender', 'Age', 'Tenure', 'Balance',\n",
       "       'NumOfProducts', 'HasCrCard', 'IsActiveMember', 'EstimatedSalary',\n",
       "       'Exited'],\n",
       "      dtype='object')"
      ]
     },
     "execution_count": 21,
     "metadata": {},
     "output_type": "execute_result"
    }
   ],
   "source": [
    "#Removing columns from data which are not needed for further analysis.\n",
    "df.drop(['RowNumber','CustomerId','Surname'],axis=1,inplace=True)\n",
    "#Extracting columns/features name present in new dataset.\n",
    "df.columns\n"
   ]
  },
  {
   "cell_type": "markdown",
   "id": "f40ae0d4",
   "metadata": {},
   "source": [
    "<div class=\"alert alert-block alert-info\">\n",
    "INSIGHT : After removing robust columns/features from the dataset,now there are 10000 rows of observations corresponding to 11 features in the new dataset."
   ]
  },
  {
   "cell_type": "code",
   "execution_count": 146,
   "id": "8a07463b",
   "metadata": {},
   "outputs": [
    {
     "data": {
      "text/plain": [
       "0"
      ]
     },
     "execution_count": 146,
     "metadata": {},
     "output_type": "execute_result"
    }
   ],
   "source": [
    "len(df[df.duplicated()])"
   ]
  },
  {
   "cell_type": "markdown",
   "id": "34badc4b",
   "metadata": {},
   "source": [
    "## DATA OVERVIEW"
   ]
  },
  {
   "cell_type": "code",
   "execution_count": 22,
   "id": "b75305bd",
   "metadata": {},
   "outputs": [
    {
     "data": {
      "text/html": [
       "<div>\n",
       "<style scoped>\n",
       "    .dataframe tbody tr th:only-of-type {\n",
       "        vertical-align: middle;\n",
       "    }\n",
       "\n",
       "    .dataframe tbody tr th {\n",
       "        vertical-align: top;\n",
       "    }\n",
       "\n",
       "    .dataframe thead th {\n",
       "        text-align: right;\n",
       "    }\n",
       "</style>\n",
       "<table border=\"1\" class=\"dataframe\">\n",
       "  <thead>\n",
       "    <tr style=\"text-align: right;\">\n",
       "      <th></th>\n",
       "      <th>CreditScore</th>\n",
       "      <th>Age</th>\n",
       "      <th>Tenure</th>\n",
       "      <th>Balance</th>\n",
       "      <th>NumOfProducts</th>\n",
       "      <th>HasCrCard</th>\n",
       "      <th>IsActiveMember</th>\n",
       "      <th>EstimatedSalary</th>\n",
       "      <th>Exited</th>\n",
       "    </tr>\n",
       "  </thead>\n",
       "  <tbody>\n",
       "    <tr>\n",
       "      <th>count</th>\n",
       "      <td>10000.000000</td>\n",
       "      <td>10000.000000</td>\n",
       "      <td>10000.000000</td>\n",
       "      <td>10000.000000</td>\n",
       "      <td>10000.000000</td>\n",
       "      <td>10000.00000</td>\n",
       "      <td>10000.000000</td>\n",
       "      <td>10000.000000</td>\n",
       "      <td>10000.000000</td>\n",
       "    </tr>\n",
       "    <tr>\n",
       "      <th>mean</th>\n",
       "      <td>650.528800</td>\n",
       "      <td>38.921800</td>\n",
       "      <td>5.012800</td>\n",
       "      <td>76485.889288</td>\n",
       "      <td>1.530200</td>\n",
       "      <td>0.70550</td>\n",
       "      <td>0.515100</td>\n",
       "      <td>100090.239881</td>\n",
       "      <td>0.203700</td>\n",
       "    </tr>\n",
       "    <tr>\n",
       "      <th>std</th>\n",
       "      <td>96.653299</td>\n",
       "      <td>10.487806</td>\n",
       "      <td>2.892174</td>\n",
       "      <td>62397.405202</td>\n",
       "      <td>0.581654</td>\n",
       "      <td>0.45584</td>\n",
       "      <td>0.499797</td>\n",
       "      <td>57510.492818</td>\n",
       "      <td>0.402769</td>\n",
       "    </tr>\n",
       "    <tr>\n",
       "      <th>min</th>\n",
       "      <td>350.000000</td>\n",
       "      <td>18.000000</td>\n",
       "      <td>0.000000</td>\n",
       "      <td>0.000000</td>\n",
       "      <td>1.000000</td>\n",
       "      <td>0.00000</td>\n",
       "      <td>0.000000</td>\n",
       "      <td>11.580000</td>\n",
       "      <td>0.000000</td>\n",
       "    </tr>\n",
       "    <tr>\n",
       "      <th>25%</th>\n",
       "      <td>584.000000</td>\n",
       "      <td>32.000000</td>\n",
       "      <td>3.000000</td>\n",
       "      <td>0.000000</td>\n",
       "      <td>1.000000</td>\n",
       "      <td>0.00000</td>\n",
       "      <td>0.000000</td>\n",
       "      <td>51002.110000</td>\n",
       "      <td>0.000000</td>\n",
       "    </tr>\n",
       "    <tr>\n",
       "      <th>50%</th>\n",
       "      <td>652.000000</td>\n",
       "      <td>37.000000</td>\n",
       "      <td>5.000000</td>\n",
       "      <td>97198.540000</td>\n",
       "      <td>1.000000</td>\n",
       "      <td>1.00000</td>\n",
       "      <td>1.000000</td>\n",
       "      <td>100193.915000</td>\n",
       "      <td>0.000000</td>\n",
       "    </tr>\n",
       "    <tr>\n",
       "      <th>75%</th>\n",
       "      <td>718.000000</td>\n",
       "      <td>44.000000</td>\n",
       "      <td>7.000000</td>\n",
       "      <td>127644.240000</td>\n",
       "      <td>2.000000</td>\n",
       "      <td>1.00000</td>\n",
       "      <td>1.000000</td>\n",
       "      <td>149388.247500</td>\n",
       "      <td>0.000000</td>\n",
       "    </tr>\n",
       "    <tr>\n",
       "      <th>max</th>\n",
       "      <td>850.000000</td>\n",
       "      <td>92.000000</td>\n",
       "      <td>10.000000</td>\n",
       "      <td>250898.090000</td>\n",
       "      <td>4.000000</td>\n",
       "      <td>1.00000</td>\n",
       "      <td>1.000000</td>\n",
       "      <td>199992.480000</td>\n",
       "      <td>1.000000</td>\n",
       "    </tr>\n",
       "  </tbody>\n",
       "</table>\n",
       "</div>"
      ],
      "text/plain": [
       "        CreditScore           Age        Tenure        Balance  NumOfProducts  \\\n",
       "count  10000.000000  10000.000000  10000.000000   10000.000000   10000.000000   \n",
       "mean     650.528800     38.921800      5.012800   76485.889288       1.530200   \n",
       "std       96.653299     10.487806      2.892174   62397.405202       0.581654   \n",
       "min      350.000000     18.000000      0.000000       0.000000       1.000000   \n",
       "25%      584.000000     32.000000      3.000000       0.000000       1.000000   \n",
       "50%      652.000000     37.000000      5.000000   97198.540000       1.000000   \n",
       "75%      718.000000     44.000000      7.000000  127644.240000       2.000000   \n",
       "max      850.000000     92.000000     10.000000  250898.090000       4.000000   \n",
       "\n",
       "         HasCrCard  IsActiveMember  EstimatedSalary        Exited  \n",
       "count  10000.00000    10000.000000     10000.000000  10000.000000  \n",
       "mean       0.70550        0.515100    100090.239881      0.203700  \n",
       "std        0.45584        0.499797     57510.492818      0.402769  \n",
       "min        0.00000        0.000000        11.580000      0.000000  \n",
       "25%        0.00000        0.000000     51002.110000      0.000000  \n",
       "50%        1.00000        1.000000    100193.915000      0.000000  \n",
       "75%        1.00000        1.000000    149388.247500      0.000000  \n",
       "max        1.00000        1.000000    199992.480000      1.000000  "
      ]
     },
     "execution_count": 22,
     "metadata": {},
     "output_type": "execute_result"
    }
   ],
   "source": [
    "#Finding various statistics of different features present in dataset.\n",
    "df.describe(include = ['float64','int64'])"
   ]
  },
  {
   "cell_type": "markdown",
   "id": "98216048",
   "metadata": {},
   "source": [
    "<div class=\"alert alert-block alert-info\">\n",
    "    \n",
    "# Univariate Analysis\n",
    "#### 1.We explore variables one by one.\n",
    "#### 2.Method to perform uni-variate analysis will depend on whether the variable type is categorical or continuous.\n",
    "***\n"
   ]
  },
  {
   "cell_type": "markdown",
   "id": "51fbf03c",
   "metadata": {},
   "source": [
    "## <u>Univariate Analysis of Categorical Variables</u>\n",
    "#### 1.A common way to summarize categorical variables is with a frequency table.\n",
    "#### 2.To visualize we will use a bar chart.\n",
    "#### 3. Insights"
   ]
  },
  {
   "cell_type": "code",
   "execution_count": 148,
   "id": "4572e0b6",
   "metadata": {},
   "outputs": [],
   "source": [
    "freq_table_Geo=df.groupby([\"Geography\"]).size().reset_index(name=\"Count\")\n",
    "freq_table_Geo[\"Count %\"]=freq_table_Geo[\"Count\"]*100/sum(freq_table_Geo[\"Count\"])\n",
    "\n",
    "freq_table_Gender=df.groupby([\"Gender\"]).size().reset_index(name=\"Count\")\n",
    "freq_table_Gender[\"Count %\"]=freq_table_Gender[\"Count\"]*100/sum(freq_table_Gender[\"Count\"])\n",
    "\n",
    "freq_table_Pro=df.groupby([\"NumOfProducts\"]).size().reset_index(name=\"Count\")\n",
    "freq_table_Pro[\"Count %\"]=freq_table_Pro[\"Count\"]*100/sum(freq_table_Pro[\"Count\"])\n",
    "\n",
    "freq_table_CrCard=df.groupby([\"HasCrCard\"]).size().reset_index(name=\"Count\")\n",
    "freq_table_CrCard[\"Count %\"]=freq_table_CrCard[\"Count\"]*100/sum(freq_table_CrCard[\"Count\"])\n",
    "\n",
    "freq_table_Active=df.groupby([\"IsActiveMember\"]).size().reset_index(name=\"Count\")\n",
    "freq_table_Active[\"Count %\"]=freq_table_Active[\"Count\"]*100/sum(freq_table_Active[\"Count\"])\n",
    "\n",
    "freq_table_Exited=df.groupby([\"Exited\"]).size().reset_index(name=\"Count\")\n",
    "freq_table_Exited[\"Count %\"]=freq_table_Exited[\"Count\"]*100/sum(freq_table_Exited[\"Count\"])\n",
    "\n",
    "freq_table_Tenure=df.groupby([\"Tenure\"]).size().reset_index(name=\"Count\")\n",
    "freq_table_Tenure[\"Count %\"]=freq_table_Tenure[\"Count\"]*100/sum(freq_table_Tenure[\"Count\"])"
   ]
  },
  {
   "cell_type": "markdown",
   "id": "128cc3c7",
   "metadata": {},
   "source": [
    "### - <u>_The various Categorical Variables in our Data Set is as follows_</u>:\n",
    "#### 1. Geography\n",
    "#### 2. Gender\n",
    "#### 3.Tenure\n",
    "#### 4.Number of Products\n",
    "#### 5. Has Credit Card\n",
    "#### 6. Is Active Member\n",
    "#### 7. Exited \n",
    "<b>We will study each feature one by one using frequency table and visualize them using bar chart followed by our insights\n"
   ]
  },
  {
   "cell_type": "markdown",
   "id": "64d9d4f0",
   "metadata": {},
   "source": [
    "### 1.GEOGRAPHY\n"
   ]
  },
  {
   "cell_type": "markdown",
   "id": "ca5c2e71",
   "metadata": {},
   "source": [
    "### FREQUENCY TABLE"
   ]
  },
  {
   "cell_type": "code",
   "execution_count": 149,
   "id": "49b71ae5",
   "metadata": {},
   "outputs": [
    {
     "data": {
      "text/html": [
       "<div>\n",
       "<style scoped>\n",
       "    .dataframe tbody tr th:only-of-type {\n",
       "        vertical-align: middle;\n",
       "    }\n",
       "\n",
       "    .dataframe tbody tr th {\n",
       "        vertical-align: top;\n",
       "    }\n",
       "\n",
       "    .dataframe thead th {\n",
       "        text-align: right;\n",
       "    }\n",
       "</style>\n",
       "<table border=\"1\" class=\"dataframe\">\n",
       "  <thead>\n",
       "    <tr style=\"text-align: right;\">\n",
       "      <th></th>\n",
       "      <th>Geography</th>\n",
       "      <th>Count</th>\n",
       "      <th>Count %</th>\n",
       "    </tr>\n",
       "  </thead>\n",
       "  <tbody>\n",
       "    <tr>\n",
       "      <th>0</th>\n",
       "      <td>France</td>\n",
       "      <td>5014</td>\n",
       "      <td>50.14</td>\n",
       "    </tr>\n",
       "    <tr>\n",
       "      <th>1</th>\n",
       "      <td>Germany</td>\n",
       "      <td>2509</td>\n",
       "      <td>25.09</td>\n",
       "    </tr>\n",
       "    <tr>\n",
       "      <th>2</th>\n",
       "      <td>Spain</td>\n",
       "      <td>2477</td>\n",
       "      <td>24.77</td>\n",
       "    </tr>\n",
       "  </tbody>\n",
       "</table>\n",
       "</div>"
      ],
      "text/plain": [
       "  Geography  Count  Count %\n",
       "0    France   5014    50.14\n",
       "1   Germany   2509    25.09\n",
       "2     Spain   2477    24.77"
      ]
     },
     "execution_count": 149,
     "metadata": {},
     "output_type": "execute_result"
    }
   ],
   "source": [
    "freq_table_Geo\n",
    "\n"
   ]
  },
  {
   "cell_type": "markdown",
   "id": "102507ee",
   "metadata": {},
   "source": [
    "### BAR CHART"
   ]
  },
  {
   "cell_type": "code",
   "execution_count": 150,
   "id": "e3218fa1",
   "metadata": {},
   "outputs": [
    {
     "data": {
      "image/png": "[encoded data removed]",
      "text/plain": [
       "<Figure size 360x360 with 1 Axes>"
      ]
     },
     "metadata": {},
     "output_type": "display_data"
    }
   ],
   "source": [
    "fig, ax = plt.subplots(figsize=(5,5))\n",
    "graph = sns.countplot(ax=ax,x='Geography', data=df,ec=\"black\",palette='Spectral')\n",
    "graph.set_xticklabels(graph.get_xticklabels(),rotation=45)\n",
    "for p in graph.patches:\n",
    "    height = p.get_height()\n",
    "    graph.text(p.get_x()+p.get_width()/2., height + 0.1,height ,ha=\"center\")"
   ]
  },
  {
   "cell_type": "markdown",
   "id": "2776b3a5",
   "metadata": {},
   "source": [
    "<div class=\"alert alert-block alert-info\">\n",
    "  \n",
    "    \n",
    "#### *Here we can see our data set has maximum number of people from France followed by Germany and least are from Spain.*"
   ]
  },
  {
   "cell_type": "markdown",
   "id": "f3415596",
   "metadata": {},
   "source": [
    "### 2.GENDER\n",
    "\n",
    "### FREQUENCY TABLE"
   ]
  },
  {
   "cell_type": "code",
   "execution_count": 151,
   "id": "295414cd",
   "metadata": {},
   "outputs": [
    {
     "data": {
      "text/html": [
       "<div>\n",
       "<style scoped>\n",
       "    .dataframe tbody tr th:only-of-type {\n",
       "        vertical-align: middle;\n",
       "    }\n",
       "\n",
       "    .dataframe tbody tr th {\n",
       "        vertical-align: top;\n",
       "    }\n",
       "\n",
       "    .dataframe thead th {\n",
       "        text-align: right;\n",
       "    }\n",
       "</style>\n",
       "<table border=\"1\" class=\"dataframe\">\n",
       "  <thead>\n",
       "    <tr style=\"text-align: right;\">\n",
       "      <th></th>\n",
       "      <th>Gender</th>\n",
       "      <th>Count</th>\n",
       "      <th>Count %</th>\n",
       "    </tr>\n",
       "  </thead>\n",
       "  <tbody>\n",
       "    <tr>\n",
       "      <th>0</th>\n",
       "      <td>Female</td>\n",
       "      <td>4543</td>\n",
       "      <td>45.43</td>\n",
       "    </tr>\n",
       "    <tr>\n",
       "      <th>1</th>\n",
       "      <td>Male</td>\n",
       "      <td>5457</td>\n",
       "      <td>54.57</td>\n",
       "    </tr>\n",
       "  </tbody>\n",
       "</table>\n",
       "</div>"
      ],
      "text/plain": [
       "   Gender  Count  Count %\n",
       "0  Female   4543    45.43\n",
       "1    Male   5457    54.57"
      ]
     },
     "execution_count": 151,
     "metadata": {},
     "output_type": "execute_result"
    }
   ],
   "source": [
    "freq_table_Gender\n"
   ]
  },
  {
   "cell_type": "markdown",
   "id": "93a81969",
   "metadata": {},
   "source": [
    "### BAR CHART"
   ]
  },
  {
   "cell_type": "code",
   "execution_count": 152,
   "id": "d6885420",
   "metadata": {},
   "outputs": [
    {
     "data": {
      "image/png": "[encoded data removed]",
      "text/plain": [
       "<Figure size 360x360 with 1 Axes>"
      ]
     },
     "metadata": {},
     "output_type": "display_data"
    }
   ],
   "source": [
    "fig, ax = plt.subplots(figsize=(5,5))\n",
    "graph = sns.countplot(ax=ax,x='Gender', data=df,ec=\"black\",palette=\"Blues\")\n",
    "graph.set_xticklabels(graph.get_xticklabels(),rotation=45)\n",
    "for p in graph.patches:\n",
    "    height = p.get_height()\n",
    "    graph.text(p.get_x()+p.get_width()/2., height + 0.1,height ,ha=\"center\")\n"
   ]
  },
  {
   "cell_type": "markdown",
   "id": "6edb1ed9",
   "metadata": {},
   "source": [
    "<div class=\"alert alert-block alert-info\">\n",
    "    \n",
    "#### *The count of Females is comparitively less than that of Males in our data.*"
   ]
  },
  {
   "cell_type": "markdown",
   "id": "b761cfef",
   "metadata": {},
   "source": [
    "### 3.TENURE\n",
    "### FREQUENCY TABLE"
   ]
  },
  {
   "cell_type": "code",
   "execution_count": 153,
   "id": "0a2e9105",
   "metadata": {},
   "outputs": [
    {
     "data": {
      "text/html": [
       "<div>\n",
       "<style scoped>\n",
       "    .dataframe tbody tr th:only-of-type {\n",
       "        vertical-align: middle;\n",
       "    }\n",
       "\n",
       "    .dataframe tbody tr th {\n",
       "        vertical-align: top;\n",
       "    }\n",
       "\n",
       "    .dataframe thead th {\n",
       "        text-align: right;\n",
       "    }\n",
       "</style>\n",
       "<table border=\"1\" class=\"dataframe\">\n",
       "  <thead>\n",
       "    <tr style=\"text-align: right;\">\n",
       "      <th></th>\n",
       "      <th>Tenure</th>\n",
       "      <th>Count</th>\n",
       "      <th>Count %</th>\n",
       "    </tr>\n",
       "  </thead>\n",
       "  <tbody>\n",
       "    <tr>\n",
       "      <th>0</th>\n",
       "      <td>0</td>\n",
       "      <td>413</td>\n",
       "      <td>4.13</td>\n",
       "    </tr>\n",
       "    <tr>\n",
       "      <th>1</th>\n",
       "      <td>1</td>\n",
       "      <td>1035</td>\n",
       "      <td>10.35</td>\n",
       "    </tr>\n",
       "    <tr>\n",
       "      <th>2</th>\n",
       "      <td>2</td>\n",
       "      <td>1048</td>\n",
       "      <td>10.48</td>\n",
       "    </tr>\n",
       "    <tr>\n",
       "      <th>3</th>\n",
       "      <td>3</td>\n",
       "      <td>1009</td>\n",
       "      <td>10.09</td>\n",
       "    </tr>\n",
       "    <tr>\n",
       "      <th>4</th>\n",
       "      <td>4</td>\n",
       "      <td>989</td>\n",
       "      <td>9.89</td>\n",
       "    </tr>\n",
       "    <tr>\n",
       "      <th>5</th>\n",
       "      <td>5</td>\n",
       "      <td>1012</td>\n",
       "      <td>10.12</td>\n",
       "    </tr>\n",
       "    <tr>\n",
       "      <th>6</th>\n",
       "      <td>6</td>\n",
       "      <td>967</td>\n",
       "      <td>9.67</td>\n",
       "    </tr>\n",
       "    <tr>\n",
       "      <th>7</th>\n",
       "      <td>7</td>\n",
       "      <td>1028</td>\n",
       "      <td>10.28</td>\n",
       "    </tr>\n",
       "    <tr>\n",
       "      <th>8</th>\n",
       "      <td>8</td>\n",
       "      <td>1025</td>\n",
       "      <td>10.25</td>\n",
       "    </tr>\n",
       "    <tr>\n",
       "      <th>9</th>\n",
       "      <td>9</td>\n",
       "      <td>984</td>\n",
       "      <td>9.84</td>\n",
       "    </tr>\n",
       "    <tr>\n",
       "      <th>10</th>\n",
       "      <td>10</td>\n",
       "      <td>490</td>\n",
       "      <td>4.90</td>\n",
       "    </tr>\n",
       "  </tbody>\n",
       "</table>\n",
       "</div>"
      ],
      "text/plain": [
       "    Tenure  Count  Count %\n",
       "0        0    413     4.13\n",
       "1        1   1035    10.35\n",
       "2        2   1048    10.48\n",
       "3        3   1009    10.09\n",
       "4        4    989     9.89\n",
       "5        5   1012    10.12\n",
       "6        6    967     9.67\n",
       "7        7   1028    10.28\n",
       "8        8   1025    10.25\n",
       "9        9    984     9.84\n",
       "10      10    490     4.90"
      ]
     },
     "execution_count": 153,
     "metadata": {},
     "output_type": "execute_result"
    }
   ],
   "source": [
    "freq_table_Tenure\n"
   ]
  },
  {
   "cell_type": "markdown",
   "id": "d6194ed4",
   "metadata": {},
   "source": [
    "### BAR CHART"
   ]
  },
  {
   "cell_type": "code",
   "execution_count": 154,
   "id": "f143a00e",
   "metadata": {},
   "outputs": [
    {
     "data": {
      "image/png": "[encoded data removed]",
      "text/plain": [
       "<Figure size 1080x720 with 1 Axes>"
      ]
     },
     "metadata": {},
     "output_type": "display_data"
    }
   ],
   "source": [
    "fig, ax = plt.subplots(figsize=(15,10))\n",
    "graph = sns.countplot(ax=ax,x='Tenure', data=df,ec=\"black\")\n",
    "graph.set_xticklabels(graph.get_xticklabels(),rotation=0)\n",
    "for p in graph.patches:\n",
    "    height = p.get_height()\n",
    "\n",
    "    graph.text(p.get_x()+p.get_width()/2., height + 0.1,height ,ha=\"center\")"
   ]
  },
  {
   "cell_type": "markdown",
   "id": "a893d1c8",
   "metadata": {},
   "source": [
    "<div class=\"alert alert-block alert-info\">\n",
    "    \n",
    "#### *Almost equal number of customers in different tenure groups, except 0 and 10.*\n",
    "\n"
   ]
  },
  {
   "cell_type": "markdown",
   "id": "b0a2a040",
   "metadata": {},
   "source": [
    "### 4. NUMBER OF PRODUCTS\n",
    "\n",
    "### FREQUENCY TABLE"
   ]
  },
  {
   "cell_type": "code",
   "execution_count": 155,
   "id": "90394cae",
   "metadata": {},
   "outputs": [
    {
     "data": {
      "text/html": [
       "<div>\n",
       "<style scoped>\n",
       "    .dataframe tbody tr th:only-of-type {\n",
       "        vertical-align: middle;\n",
       "    }\n",
       "\n",
       "    .dataframe tbody tr th {\n",
       "        vertical-align: top;\n",
       "    }\n",
       "\n",
       "    .dataframe thead th {\n",
       "        text-align: right;\n",
       "    }\n",
       "</style>\n",
       "<table border=\"1\" class=\"dataframe\">\n",
       "  <thead>\n",
       "    <tr style=\"text-align: right;\">\n",
       "      <th></th>\n",
       "      <th>NumOfProducts</th>\n",
       "      <th>Count</th>\n",
       "      <th>Count %</th>\n",
       "    </tr>\n",
       "  </thead>\n",
       "  <tbody>\n",
       "    <tr>\n",
       "      <th>0</th>\n",
       "      <td>1</td>\n",
       "      <td>5084</td>\n",
       "      <td>50.84</td>\n",
       "    </tr>\n",
       "    <tr>\n",
       "      <th>1</th>\n",
       "      <td>2</td>\n",
       "      <td>4590</td>\n",
       "      <td>45.90</td>\n",
       "    </tr>\n",
       "    <tr>\n",
       "      <th>2</th>\n",
       "      <td>3</td>\n",
       "      <td>266</td>\n",
       "      <td>2.66</td>\n",
       "    </tr>\n",
       "    <tr>\n",
       "      <th>3</th>\n",
       "      <td>4</td>\n",
       "      <td>60</td>\n",
       "      <td>0.60</td>\n",
       "    </tr>\n",
       "  </tbody>\n",
       "</table>\n",
       "</div>"
      ],
      "text/plain": [
       "   NumOfProducts  Count  Count %\n",
       "0              1   5084    50.84\n",
       "1              2   4590    45.90\n",
       "2              3    266     2.66\n",
       "3              4     60     0.60"
      ]
     },
     "execution_count": 155,
     "metadata": {},
     "output_type": "execute_result"
    }
   ],
   "source": [
    "freq_table_Pro"
   ]
  },
  {
   "cell_type": "markdown",
   "id": "12c84450",
   "metadata": {},
   "source": [
    "### BAR CHART"
   ]
  },
  {
   "cell_type": "code",
   "execution_count": 156,
   "id": "3f085ef5",
   "metadata": {},
   "outputs": [
    {
     "data": {
      "image/png": "[encoded data removed]",
      "text/plain": [
       "<Figure size 720x576 with 1 Axes>"
      ]
     },
     "metadata": {},
     "output_type": "display_data"
    }
   ],
   "source": [
    "fig, ax = plt.subplots(figsize=(10,8))\n",
    "graph = sns.countplot(ax=ax,x='NumOfProducts', data=df,ec=\"black\",palette=\"PRGn\")\n",
    "graph.set_xticklabels(graph.get_xticklabels(),rotation=0)\n",
    "for p in graph.patches:\n",
    "    height = p.get_height()\n",
    "    graph.text(p.get_x()+p.get_width()/2., height + 0.1,height ,ha=\"center\")"
   ]
  },
  {
   "cell_type": "markdown",
   "id": "6216412b",
   "metadata": {},
   "source": [
    "<div class=\"alert alert-block alert-info\">\n",
    "        \n",
    "#### *Most of the customers use one or two number of products, with a very few use three or four products*\n",
    "\n"
   ]
  },
  {
   "cell_type": "markdown",
   "id": "febc55b3",
   "metadata": {},
   "source": [
    "### 5. HAS CREDIT CARD\n",
    "### FREQUENCY TABLE"
   ]
  },
  {
   "cell_type": "code",
   "execution_count": 157,
   "id": "ce5c73e6",
   "metadata": {},
   "outputs": [
    {
     "data": {
      "text/html": [
       "<div>\n",
       "<style scoped>\n",
       "    .dataframe tbody tr th:only-of-type {\n",
       "        vertical-align: middle;\n",
       "    }\n",
       "\n",
       "    .dataframe tbody tr th {\n",
       "        vertical-align: top;\n",
       "    }\n",
       "\n",
       "    .dataframe thead th {\n",
       "        text-align: right;\n",
       "    }\n",
       "</style>\n",
       "<table border=\"1\" class=\"dataframe\">\n",
       "  <thead>\n",
       "    <tr style=\"text-align: right;\">\n",
       "      <th></th>\n",
       "      <th>HasCrCard</th>\n",
       "      <th>Count</th>\n",
       "      <th>Count %</th>\n",
       "    </tr>\n",
       "  </thead>\n",
       "  <tbody>\n",
       "    <tr>\n",
       "      <th>0</th>\n",
       "      <td>0</td>\n",
       "      <td>2945</td>\n",
       "      <td>29.45</td>\n",
       "    </tr>\n",
       "    <tr>\n",
       "      <th>1</th>\n",
       "      <td>1</td>\n",
       "      <td>7055</td>\n",
       "      <td>70.55</td>\n",
       "    </tr>\n",
       "  </tbody>\n",
       "</table>\n",
       "</div>"
      ],
      "text/plain": [
       "   HasCrCard  Count  Count %\n",
       "0          0   2945    29.45\n",
       "1          1   7055    70.55"
      ]
     },
     "execution_count": 157,
     "metadata": {},
     "output_type": "execute_result"
    }
   ],
   "source": [
    "freq_table_CrCard"
   ]
  },
  {
   "cell_type": "markdown",
   "id": "8f4eeae5",
   "metadata": {},
   "source": [
    "### BAR CHART"
   ]
  },
  {
   "cell_type": "code",
   "execution_count": 158,
   "id": "38865870",
   "metadata": {},
   "outputs": [
    {
     "data": {
      "image/png": "[encoded data removed]",
      "text/plain": [
       "<Figure size 360x360 with 1 Axes>"
      ]
     },
     "metadata": {},
     "output_type": "display_data"
    }
   ],
   "source": [
    "fig, ax = plt.subplots(figsize=(5,5))\n",
    "graph = sns.countplot(ax=ax,x='HasCrCard', data=df,ec=\"black\",palette=\"autumn\")\n",
    "graph.set_xticklabels(graph.get_xticklabels(),rotation=0)\n",
    "for p in graph.patches:\n",
    "    height = p.get_height()\n",
    "    graph.text(p.get_x()+p.get_width()/2., height + 0.1,height ,ha=\"center\")"
   ]
  },
  {
   "cell_type": "markdown",
   "id": "592750e5",
   "metadata": {},
   "source": [
    "<div class=\"alert alert-block alert-info\">\n",
    "    \n",
    "#### *Majority of Customers have Bank's Credit Card*"
   ]
  },
  {
   "cell_type": "markdown",
   "id": "f7e9cabf",
   "metadata": {},
   "source": [
    "### 6. IS ACTIVE MEMBER\n",
    "### FREQUENCY TABLE"
   ]
  },
  {
   "cell_type": "code",
   "execution_count": 159,
   "id": "e3ab2bf9",
   "metadata": {},
   "outputs": [
    {
     "data": {
      "text/html": [
       "<div>\n",
       "<style scoped>\n",
       "    .dataframe tbody tr th:only-of-type {\n",
       "        vertical-align: middle;\n",
       "    }\n",
       "\n",
       "    .dataframe tbody tr th {\n",
       "        vertical-align: top;\n",
       "    }\n",
       "\n",
       "    .dataframe thead th {\n",
       "        text-align: right;\n",
       "    }\n",
       "</style>\n",
       "<table border=\"1\" class=\"dataframe\">\n",
       "  <thead>\n",
       "    <tr style=\"text-align: right;\">\n",
       "      <th></th>\n",
       "      <th>IsActiveMember</th>\n",
       "      <th>Count</th>\n",
       "      <th>Count %</th>\n",
       "    </tr>\n",
       "  </thead>\n",
       "  <tbody>\n",
       "    <tr>\n",
       "      <th>0</th>\n",
       "      <td>0</td>\n",
       "      <td>4849</td>\n",
       "      <td>48.49</td>\n",
       "    </tr>\n",
       "    <tr>\n",
       "      <th>1</th>\n",
       "      <td>1</td>\n",
       "      <td>5151</td>\n",
       "      <td>51.51</td>\n",
       "    </tr>\n",
       "  </tbody>\n",
       "</table>\n",
       "</div>"
      ],
      "text/plain": [
       "   IsActiveMember  Count  Count %\n",
       "0               0   4849    48.49\n",
       "1               1   5151    51.51"
      ]
     },
     "execution_count": 159,
     "metadata": {},
     "output_type": "execute_result"
    }
   ],
   "source": [
    "freq_table_Active"
   ]
  },
  {
   "cell_type": "markdown",
   "id": "199a40d3",
   "metadata": {},
   "source": [
    "### BAR CHART"
   ]
  },
  {
   "cell_type": "code",
   "execution_count": 160,
   "id": "e1e64ea0",
   "metadata": {},
   "outputs": [
    {
     "data": {
      "image/png": "[encoded data removed]",
      "text/plain": [
       "<Figure size 360x360 with 1 Axes>"
      ]
     },
     "metadata": {},
     "output_type": "display_data"
    }
   ],
   "source": [
    "fig, ax = plt.subplots(figsize=(5,5))\n",
    "graph = sns.countplot(ax=ax,x='IsActiveMember', data=df,ec=\"black\",palette=\"BuPu\")\n",
    "graph.set_xticklabels(graph.get_xticklabels(),rotation=0)\n",
    "for p in graph.patches:\n",
    "    height = p.get_height()\n",
    "    graph.text(p.get_x()+p.get_width()/2., height + 0.1,height ,ha=\"center\")"
   ]
  },
  {
   "cell_type": "markdown",
   "id": "1e800b57",
   "metadata": {},
   "source": [
    "<div class=\"alert alert-block alert-info\">\n",
    "    \n",
    "#### *Almost equal number of active and inactive members in our Bank*"
   ]
  },
  {
   "cell_type": "markdown",
   "id": "e3023d27",
   "metadata": {},
   "source": [
    "### 7. EXITED\n",
    "#### The count of Females is comparitively less than that of Males in our data.\n",
    "### FREQUENCY TABLE"
   ]
  },
  {
   "cell_type": "code",
   "execution_count": 161,
   "id": "bcde720c",
   "metadata": {},
   "outputs": [
    {
     "data": {
      "text/html": [
       "<div>\n",
       "<style scoped>\n",
       "    .dataframe tbody tr th:only-of-type {\n",
       "        vertical-align: middle;\n",
       "    }\n",
       "\n",
       "    .dataframe tbody tr th {\n",
       "        vertical-align: top;\n",
       "    }\n",
       "\n",
       "    .dataframe thead th {\n",
       "        text-align: right;\n",
       "    }\n",
       "</style>\n",
       "<table border=\"1\" class=\"dataframe\">\n",
       "  <thead>\n",
       "    <tr style=\"text-align: right;\">\n",
       "      <th></th>\n",
       "      <th>Exited</th>\n",
       "      <th>Count</th>\n",
       "      <th>Count %</th>\n",
       "    </tr>\n",
       "  </thead>\n",
       "  <tbody>\n",
       "    <tr>\n",
       "      <th>0</th>\n",
       "      <td>0</td>\n",
       "      <td>7963</td>\n",
       "      <td>79.63</td>\n",
       "    </tr>\n",
       "    <tr>\n",
       "      <th>1</th>\n",
       "      <td>1</td>\n",
       "      <td>2037</td>\n",
       "      <td>20.37</td>\n",
       "    </tr>\n",
       "  </tbody>\n",
       "</table>\n",
       "</div>"
      ],
      "text/plain": [
       "   Exited  Count  Count %\n",
       "0       0   7963    79.63\n",
       "1       1   2037    20.37"
      ]
     },
     "execution_count": 161,
     "metadata": {},
     "output_type": "execute_result"
    }
   ],
   "source": [
    "freq_table_Exited\n"
   ]
  },
  {
   "cell_type": "markdown",
   "id": "02c9dd51",
   "metadata": {},
   "source": [
    "### BAR CHART"
   ]
  },
  {
   "cell_type": "code",
   "execution_count": 162,
   "id": "396763b1",
   "metadata": {},
   "outputs": [
    {
     "data": {
      "image/png": "[encoded data removed]",
      "text/plain": [
       "<Figure size 360x360 with 1 Axes>"
      ]
     },
     "metadata": {},
     "output_type": "display_data"
    }
   ],
   "source": [
    "fig, ax = plt.subplots(figsize=(5,5))\n",
    "graph = sns.countplot(ax=ax,x='Exited', data=df,ec=\"black\",palette=\"flare\")\n",
    "graph.set_xticklabels(graph.get_xticklabels(),rotation=0)\n",
    "for p in graph.patches:\n",
    "    height = p.get_height()\n",
    "    graph.text(p.get_x()+p.get_width()/2., height + 0.1,height ,ha=\"center\")"
   ]
  },
  {
   "cell_type": "markdown",
   "id": "0b049091",
   "metadata": {},
   "source": [
    "<div class=\"alert alert-block alert-info\">\n",
    "    \n",
    "#### *Most of our customers did not churn*\n",
    "#### *Since the ratio for churners to non churners is approximately 80:20 so dataset is highly imbalance.*"
   ]
  },
  {
   "cell_type": "markdown",
   "id": "63945dc5",
   "metadata": {},
   "source": [
    "## <u> Univariate Analysis of Numerical Variables</u>\n",
    "### - Numerical data can be visualized with a histogram. Histograms are a great first analysis of continuous data. \n"
   ]
  },
  {
   "cell_type": "markdown",
   "id": "19d30cd8",
   "metadata": {},
   "source": [
    "### - _The various Numerical Variables in our Data Set is as follows_:\n",
    "#### 1. Credit Score\n",
    "#### 2. Age\n",
    "#### 3.Balance\n",
    "#### 4.Estimated Salary\n",
    "### _We will study each feature one by one using histogram_\n"
   ]
  },
  {
   "cell_type": "markdown",
   "id": "c8a260ef",
   "metadata": {},
   "source": [
    "\n",
    "### 1.  CREDIT SCORE\n",
    "### HISTOGRAM"
   ]
  },
  {
   "cell_type": "code",
   "execution_count": 163,
   "id": "db47cb75",
   "metadata": {},
   "outputs": [
    {
     "data": {
      "text/plain": [
       "Text(0, 0.5, 'Count')"
      ]
     },
     "execution_count": 163,
     "metadata": {},
     "output_type": "execute_result"
    },
    {
     "data": {
      "image/png": "[encoded data removed]",
      "text/plain": [
       "<Figure size 720x504 with 1 Axes>"
      ]
     },
     "metadata": {},
     "output_type": "display_data"
    }
   ],
   "source": [
    "plt.figure(figsize=(10,7))\n",
    "x=df[\"CreditScore\"]\n",
    "plt.hist(x,bins=20,color=\"orange\")\n",
    "plt.title(\"Credit Score\")\n",
    "plt.xlabel(\"Credit Score\")\n",
    "plt.ylabel(\"Count\")"
   ]
  },
  {
   "cell_type": "markdown",
   "id": "9ee614b9",
   "metadata": {},
   "source": [
    "<div class=\"alert alert-block alert-info\">\n",
    "    \n",
    "#### *Credit Score is left skewed.*"
   ]
  },
  {
   "cell_type": "markdown",
   "id": "43a058e9",
   "metadata": {},
   "source": [
    "\n",
    "### 2. AGE\n",
    "### HISTOGRAM\n"
   ]
  },
  {
   "cell_type": "code",
   "execution_count": 164,
   "id": "05dd156b",
   "metadata": {},
   "outputs": [
    {
     "data": {
      "text/plain": [
       "Text(0, 0.5, 'Count')"
      ]
     },
     "execution_count": 164,
     "metadata": {},
     "output_type": "execute_result"
    },
    {
     "data": {
      "image/png": "[encoded data removed]",
      "text/plain": [
       "<Figure size 720x504 with 1 Axes>"
      ]
     },
     "metadata": {},
     "output_type": "display_data"
    }
   ],
   "source": [
    "plt.figure(figsize=(10,7))\n",
    "x=df[\"Age\"]\n",
    "plt.hist(x,bins=20,color=\"red\")\n",
    "plt.title(\"Age\")\n",
    "plt.xlabel(\"Age\")\n",
    "plt.ylabel(\"Count\")"
   ]
  },
  {
   "cell_type": "markdown",
   "id": "9027b49f",
   "metadata": {},
   "source": [
    "<div class=\"alert alert-block alert-info\">\n",
    "    \n",
    "#### *Age is a bit right skewed*"
   ]
  },
  {
   "cell_type": "markdown",
   "id": "d01eedfc",
   "metadata": {},
   "source": [
    "### 3. BALANCE \n",
    "### HISTOGRAM"
   ]
  },
  {
   "cell_type": "code",
   "execution_count": 165,
   "id": "cd609099",
   "metadata": {
    "scrolled": true
   },
   "outputs": [
    {
     "data": {
      "text/plain": [
       "Text(0, 0.5, 'Count')"
      ]
     },
     "execution_count": 165,
     "metadata": {},
     "output_type": "execute_result"
    },
    {
     "data": {
      "image/png": "[encoded data removed]",
      "text/plain": [
       "<Figure size 720x504 with 1 Axes>"
      ]
     },
     "metadata": {},
     "output_type": "display_data"
    }
   ],
   "source": [
    "plt.figure(figsize=(10,7))\n",
    "x=df[\"Balance\"]\n",
    "plt.hist(x,bins=20,color=\"pink\")\n",
    "plt.title(\"Age\")\n",
    "plt.xlabel(\"Age\")\n",
    "plt.ylabel(\"Count\")"
   ]
  },
  {
   "cell_type": "markdown",
   "id": "7ecdea72",
   "metadata": {},
   "source": [
    "<div class=\"alert alert-block alert-info\">\n",
    "    \n",
    "#### *If we ignore the customers having balance as zero, we see that balance is fairly normal distributed*"
   ]
  },
  {
   "cell_type": "markdown",
   "id": "12bb6b9c",
   "metadata": {},
   "source": [
    "### 4. ESTIMATED SALARY\n",
    "### HISTOGRAM\n"
   ]
  },
  {
   "cell_type": "code",
   "execution_count": 166,
   "id": "ec63b490",
   "metadata": {
    "scrolled": true
   },
   "outputs": [
    {
     "data": {
      "text/plain": [
       "Text(0, 0.5, 'Count')"
      ]
     },
     "execution_count": 166,
     "metadata": {},
     "output_type": "execute_result"
    },
    {
     "data": {
      "image/png": "[encoded data removed]",
      "text/plain": [
       "<Figure size 720x504 with 1 Axes>"
      ]
     },
     "metadata": {},
     "output_type": "display_data"
    }
   ],
   "source": [
    "plt.figure(figsize=(10,7))\n",
    "x=df[\"EstimatedSalary\"]\n",
    "plt.hist(x,bins=20,color=\"yellow\")\n",
    "plt.title(\"Estimated Salary\")\n",
    "plt.xlabel(\"Estimated Salary\")\n",
    "plt.ylabel(\"Count\")"
   ]
  },
  {
   "cell_type": "markdown",
   "id": "ef1ce279",
   "metadata": {},
   "source": [
    "<div class=\"alert alert-block alert-info\">\n",
    "    \n",
    "#### *Data contains approximately same number of customers from each salary interval.*"
   ]
  },
  {
   "cell_type": "markdown",
   "id": "609e6b27",
   "metadata": {},
   "source": [
    "***\n",
    "# Bivariate Analysis\n",
    "#### 1.We perform bi-variate analysis with 2 variables for any combination of categorical and continuous variables.\n",
    "#### 2.The combination can be: Categorical & Categorical, Categorical & Continuous and Continuous & Continuous.\n",
    "#### 3.Different methods are used to tackle these combinations during analysis process.\n",
    "***\n",
    "## 1. Categorical & Continuous"
   ]
  },
  {
   "cell_type": "markdown",
   "id": "4d43de88",
   "metadata": {},
   "source": [
    "## 1 (A) : Studying the relationship between Credit Score and Exited"
   ]
  },
  {
   "cell_type": "code",
   "execution_count": 26,
   "id": "1c75eb62",
   "metadata": {
    "scrolled": true
   },
   "outputs": [
    {
     "data": {
      "text/plain": [
       "(200.0, 1000.0)"
      ]
     },
     "execution_count": 26,
     "metadata": {},
     "output_type": "execute_result"
    },
    {
     "data": {
      "image/png": "[encoded data removed]",
      "text/plain": [
       "<Figure size 720x720 with 1 Axes>"
      ]
     },
     "metadata": {
      "needs_background": "light"
     },
     "output_type": "display_data"
    }
   ],
   "source": [
    "fig_dims = (10,10)\n",
    "fig, ax = plt.subplots(figsize=fig_dims)\n",
    "sns.boxplot(x='Exited',y='CreditScore',ax=ax,data = df,palette='rainbow');\n",
    "plt.ylim(200, 1000)"
   ]
  },
  {
   "cell_type": "code",
   "execution_count": 31,
   "id": "f056db87",
   "metadata": {},
   "outputs": [
    {
     "data": {
      "text/plain": [
       "Text(0.5, 1.0, 'CreditScore by churn')"
      ]
     },
     "execution_count": 31,
     "metadata": {},
     "output_type": "execute_result"
    },
    {
     "data": {
      "image/png": "[encoded data removed]",
      "text/plain": [
       "<Figure size 432x288 with 1 Axes>"
      ]
     },
     "metadata": {
      "needs_background": "light"
     },
     "output_type": "display_data"
    }
   ],
   "source": [
    "#CreditScore versus Exited\n",
    "cs = sns.kdeplot(df.CreditScore[(df[\"Exited\"] == 0)],\n",
    "                color=\"Red\", shade = True)\n",
    "cs = sns.kdeplot(df.CreditScore[(df[\"Exited\"] == 1)],\n",
    "                ax = cs , color=\"Blue\", shade = True)\n",
    "cs.legend([\"No exit\",\"exit\"], loc = 'upper right')\n",
    "cs.set_ylabel('Density')\n",
    "cs.set_xlabel('CreditScore')\n",
    "cs.set_title('CreditScore by churn')"
   ]
  },
  {
   "cell_type": "markdown",
   "id": "89ebbd43",
   "metadata": {},
   "source": [
    "<div class=\"alert alert-block alert-info\">\n",
    "\n",
    "#### _Overall similar distribution. Some customers with extremely low credit score (on the left tail) as well as with high credit score also churned, it indicates that really low and high quality customer are easily churn than the average quality customer._"
   ]
  },
  {
   "cell_type": "markdown",
   "id": "e271351c",
   "metadata": {},
   "source": [
    "## 1 (B) : Studying the relationship between Balance and Exited"
   ]
  },
  {
   "cell_type": "code",
   "execution_count": 32,
   "id": "6c358c47",
   "metadata": {},
   "outputs": [
    {
     "data": {
      "text/plain": [
       "<AxesSubplot:xlabel='Exited', ylabel='Balance'>"
      ]
     },
     "execution_count": 32,
     "metadata": {},
     "output_type": "execute_result"
    },
    {
     "data": {
      "image/png": "[encoded data removed]",
      "text/plain": [
       "<Figure size 432x288 with 1 Axes>"
      ]
     },
     "metadata": {
      "needs_background": "light"
     },
     "output_type": "display_data"
    }
   ],
   "source": [
    "sns.boxplot(df['Exited'],df['Balance'],palette={'red','yellow'})"
   ]
  },
  {
   "cell_type": "code",
   "execution_count": 25,
   "id": "d06d3711",
   "metadata": {},
   "outputs": [
    {
     "data": {
      "text/plain": [
       "<AxesSubplot:xlabel='Balance', ylabel='Density'>"
      ]
     },
     "execution_count": 25,
     "metadata": {},
     "output_type": "execute_result"
    },
    {
     "data": {
      "image/png": "[encoded data removed]",
      "text/plain": [
       "<Figure size 432x288 with 1 Axes>"
      ]
     },
     "metadata": {
      "needs_background": "light"
     },
     "output_type": "display_data"
    }
   ],
   "source": [
    "sns.distplot(df[df['Exited']==0]['Balance'])\n",
    "sns.distplot(df[df['Exited']==1]['Balance'])"
   ]
  },
  {
   "cell_type": "markdown",
   "id": "958ded87",
   "metadata": {},
   "source": [
    "<div class=\"alert alert-block alert-info\">\n",
    "\n",
    "#### *Distribution of the two groups are quite similiar. Surprisingly some non-churned customers have lower balance than churned customers.*\n"
   ]
  },
  {
   "cell_type": "markdown",
   "id": "1f527029",
   "metadata": {},
   "source": [
    "## 1 (C) : Studying the relationship between Estimated Salary and Exited"
   ]
  },
  {
   "cell_type": "code",
   "execution_count": 33,
   "id": "42e2f782",
   "metadata": {},
   "outputs": [
    {
     "data": {
      "text/plain": [
       "<AxesSubplot:xlabel='Exited', ylabel='EstimatedSalary'>"
      ]
     },
     "execution_count": 33,
     "metadata": {},
     "output_type": "execute_result"
    },
    {
     "data": {
      "image/png": "[encoded data removed]",
      "text/plain": [
       "<Figure size 432x288 with 1 Axes>"
      ]
     },
     "metadata": {
      "needs_background": "light"
     },
     "output_type": "display_data"
    }
   ],
   "source": [
    "sns.boxplot(df['Exited'],df['EstimatedSalary'],palette={'yellow','blue'})"
   ]
  },
  {
   "cell_type": "code",
   "execution_count": 34,
   "id": "21d1548d",
   "metadata": {},
   "outputs": [
    {
     "data": {
      "text/plain": [
       "<matplotlib.legend.Legend at 0x2504326b490>"
      ]
     },
     "execution_count": 34,
     "metadata": {},
     "output_type": "execute_result"
    },
    {
     "data": {
      "image/png": "[encoded data removed]",
      "text/plain": [
       "<Figure size 432x288 with 1 Axes>"
      ]
     },
     "metadata": {
      "needs_background": "light"
     },
     "output_type": "display_data"
    }
   ],
   "source": [
    "sns.distplot(df[df['Exited']==0]['EstimatedSalary'],color='red',kde_kws={'linewidth':2},label=\"0\")\n",
    "sns.distplot(df[df['Exited']==1]['EstimatedSalary'],color='blue',kde_kws={'linewidth':2},label=\"1\")\n",
    "plt.legend()"
   ]
  },
  {
   "cell_type": "markdown",
   "id": "05be582c",
   "metadata": {},
   "source": [
    "<div class=\"alert alert-block alert-info\">\n",
    "\n",
    " #### _Both groups have a very similar distribution._ \n",
    " #### _Esimated Salary might not be a very important infomation to decide if a customer will churn or not._"
   ]
  },
  {
   "cell_type": "markdown",
   "id": "abdb85f3",
   "metadata": {},
   "source": [
    "## 1 (D) : Studying the relationship between Age and Exited"
   ]
  },
  {
   "cell_type": "code",
   "execution_count": 38,
   "id": "bd1d076e",
   "metadata": {},
   "outputs": [
    {
     "data": {
      "image/png": "[encoded data removed]",
      "text/plain": [
       "<Figure size 720x720 with 1 Axes>"
      ]
     },
     "metadata": {
      "needs_background": "light"
     },
     "output_type": "display_data"
    }
   ],
   "source": [
    "fig_dims = (10,10)\n",
    "fig, ax = plt.subplots(figsize=fig_dims)\n",
    "sns.boxplot(x='Exited',y='Age',ax=ax,data = df,palette='rainbow');"
   ]
  },
  {
   "cell_type": "code",
   "execution_count": 36,
   "id": "a907ea47",
   "metadata": {},
   "outputs": [
    {
     "data": {
      "text/plain": [
       "Text(0.5, 1.0, 'Age by churn')"
      ]
     },
     "execution_count": 36,
     "metadata": {},
     "output_type": "execute_result"
    },
    {
     "data": {
      "image/png": "[encoded data removed]",
      "text/plain": [
       "<Figure size 432x288 with 1 Axes>"
      ]
     },
     "metadata": {
      "needs_background": "light"
     },
     "output_type": "display_data"
    }
   ],
   "source": [
    "cs = sns.kdeplot(df.Age[(df[\"Exited\"] == 0)],\n",
    "                color=\"Red\", shade = True)\n",
    "cs = sns.kdeplot(df.Age[(df[\"Exited\"] == 1)],\n",
    "                ax = cs , color=\"Blue\", shade = True)\n",
    "cs.legend([\"No exit\",\"exit\"], loc = 'upper right')\n",
    "cs.set_ylabel('Density')\n",
    "cs.set_xlabel('Age')\n",
    "cs.set_title('Age by churn')"
   ]
  },
  {
   "cell_type": "markdown",
   "id": "a8f5cea4",
   "metadata": {},
   "source": [
    "<div class=\"alert alert-block alert-info\">\n",
    "    \n",
    "   #### - Non-churned customers have a right-skewed distribution (tend to be young).   \n",
    "   #### -Churned customers are mostly around age 40 to 50 .  \n",
    "   #### - Outliers above 60 years old maybe our stable customers.\n",
    "\n",
    "\n"
   ]
  },
  {
   "cell_type": "markdown",
   "id": "f1b5e5e8",
   "metadata": {},
   "source": [
    "## 2. Categorical & Categorical"
   ]
  },
  {
   "cell_type": "markdown",
   "id": "1456412e",
   "metadata": {},
   "source": [
    "## 2(A) : Studying the relationship between Geography and Exited"
   ]
  },
  {
   "cell_type": "code",
   "execution_count": 40,
   "id": "f3db815b",
   "metadata": {},
   "outputs": [
    {
     "data": {
      "text/plain": [
       "<seaborn.axisgrid.FacetGrid at 0x250415647f0>"
      ]
     },
     "execution_count": 40,
     "metadata": {},
     "output_type": "execute_result"
    },
    {
     "data": {
      "image/png": "[encoded data removed]",
      "text/plain": [
       "<Figure size 402.375x360 with 1 Axes>"
      ]
     },
     "metadata": {
      "needs_background": "light"
     },
     "output_type": "display_data"
    }
   ],
   "source": [
    "sns.catplot(x = \"Geography\", hue = \"Exited\", kind = \"count\", data = df)"
   ]
  },
  {
   "cell_type": "code",
   "execution_count": 43,
   "id": "d677aa6e",
   "metadata": {},
   "outputs": [
    {
     "data": {
      "text/html": [
       "<div>\n",
       "<style scoped>\n",
       "    .dataframe tbody tr th:only-of-type {\n",
       "        vertical-align: middle;\n",
       "    }\n",
       "\n",
       "    .dataframe tbody tr th {\n",
       "        vertical-align: top;\n",
       "    }\n",
       "\n",
       "    .dataframe thead th {\n",
       "        text-align: right;\n",
       "    }\n",
       "</style>\n",
       "<table border=\"1\" class=\"dataframe\">\n",
       "  <thead>\n",
       "    <tr style=\"text-align: right;\">\n",
       "      <th>Exited</th>\n",
       "      <th>0</th>\n",
       "      <th>1</th>\n",
       "    </tr>\n",
       "    <tr>\n",
       "      <th>Geography</th>\n",
       "      <th></th>\n",
       "      <th></th>\n",
       "    </tr>\n",
       "  </thead>\n",
       "  <tbody>\n",
       "    <tr>\n",
       "      <th>France</th>\n",
       "      <td>83.845233</td>\n",
       "      <td>16.154767</td>\n",
       "    </tr>\n",
       "    <tr>\n",
       "      <th>Germany</th>\n",
       "      <td>67.556796</td>\n",
       "      <td>32.443204</td>\n",
       "    </tr>\n",
       "    <tr>\n",
       "      <th>Spain</th>\n",
       "      <td>83.326605</td>\n",
       "      <td>16.673395</td>\n",
       "    </tr>\n",
       "  </tbody>\n",
       "</table>\n",
       "</div>"
      ],
      "text/plain": [
       "Exited             0          1\n",
       "Geography                      \n",
       "France     83.845233  16.154767\n",
       "Germany    67.556796  32.443204\n",
       "Spain      83.326605  16.673395"
      ]
     },
     "execution_count": 43,
     "metadata": {},
     "output_type": "execute_result"
    }
   ],
   "source": [
    "crosstab = pd.crosstab(df[\"Geography\"],df[\"Exited\"],normalize=\"index\") *100\n",
    "crosstab"
   ]
  },
  {
   "cell_type": "markdown",
   "id": "6ba2488a",
   "metadata": {},
   "source": [
    "<div class=\"alert alert-block alert-info\">\n",
    "\n",
    "#### *INSIGHT : The ratio of non churners to churners belonging to France is 84:16 , ratio of non churners to churners belonging to Germany is 68:32 and the ratio of non churners to churners belonging to Spain is 83:17 therefore we conclude that customers belonging to Germany are more likely to churn as compared to France and Spain.*"
   ]
  },
  {
   "cell_type": "markdown",
   "id": "d54cbe5f",
   "metadata": {},
   "source": [
    "## 2(B) : Studying the relationship between Gender and Exited\n"
   ]
  },
  {
   "cell_type": "code",
   "execution_count": 45,
   "id": "b6759a3e",
   "metadata": {},
   "outputs": [
    {
     "data": {
      "text/plain": [
       "(0.0, 5000.0)"
      ]
     },
     "execution_count": 45,
     "metadata": {},
     "output_type": "execute_result"
    },
    {
     "data": {
      "image/png": "[encoded data removed]",
      "text/plain": [
       "<Figure size 402.375x360 with 1 Axes>"
      ]
     },
     "metadata": {
      "needs_background": "light"
     },
     "output_type": "display_data"
    }
   ],
   "source": [
    "sns.catplot(x = \"Gender\", hue = \"Exited\", kind = \"count\", data = df)\n",
    "plt.ylim(0,5000)"
   ]
  },
  {
   "cell_type": "code",
   "execution_count": 46,
   "id": "ac2dbefb",
   "metadata": {},
   "outputs": [
    {
     "data": {
      "text/html": [
       "<div>\n",
       "<style scoped>\n",
       "    .dataframe tbody tr th:only-of-type {\n",
       "        vertical-align: middle;\n",
       "    }\n",
       "\n",
       "    .dataframe tbody tr th {\n",
       "        vertical-align: top;\n",
       "    }\n",
       "\n",
       "    .dataframe thead th {\n",
       "        text-align: right;\n",
       "    }\n",
       "</style>\n",
       "<table border=\"1\" class=\"dataframe\">\n",
       "  <thead>\n",
       "    <tr style=\"text-align: right;\">\n",
       "      <th>Exited</th>\n",
       "      <th>0</th>\n",
       "      <th>1</th>\n",
       "    </tr>\n",
       "    <tr>\n",
       "      <th>Gender</th>\n",
       "      <th></th>\n",
       "      <th></th>\n",
       "    </tr>\n",
       "  </thead>\n",
       "  <tbody>\n",
       "    <tr>\n",
       "      <th>Female</th>\n",
       "      <td>74.928461</td>\n",
       "      <td>25.071539</td>\n",
       "    </tr>\n",
       "    <tr>\n",
       "      <th>Male</th>\n",
       "      <td>83.544072</td>\n",
       "      <td>16.455928</td>\n",
       "    </tr>\n",
       "  </tbody>\n",
       "</table>\n",
       "</div>"
      ],
      "text/plain": [
       "Exited          0          1\n",
       "Gender                      \n",
       "Female  74.928461  25.071539\n",
       "Male    83.544072  16.455928"
      ]
     },
     "execution_count": 46,
     "metadata": {},
     "output_type": "execute_result"
    }
   ],
   "source": [
    "crosstab = pd.crosstab(df[\"Gender\"],df[\"Exited\"],normalize=\"index\") *100\n",
    "crosstab"
   ]
  },
  {
   "cell_type": "markdown",
   "id": "c4e0f4ad",
   "metadata": {},
   "source": [
    "<div class=\"alert alert-block alert-info\">\n",
    "\n",
    "    \n",
    "#### *INSIGHT : The ratio of female non-churners to female churners is 75:25 whereas the ratio of male non-churners to male churners is 84:16.Therefore we conclude that females are more likely to churn as compared to males.*"
   ]
  },
  {
   "cell_type": "markdown",
   "id": "9981f8ba",
   "metadata": {},
   "source": [
    "## 2(C) : Studying the relationship between Tenure and Exited\n"
   ]
  },
  {
   "cell_type": "code",
   "execution_count": 48,
   "id": "e09cbc8b",
   "metadata": {},
   "outputs": [
    {
     "data": {
      "image/png": "[encoded data removed]",
      "text/plain": [
       "<Figure size 402.375x360 with 1 Axes>"
      ]
     },
     "metadata": {
      "needs_background": "light"
     },
     "output_type": "display_data"
    }
   ],
   "source": [
    "sns.catplot(x = \"Tenure\", hue = \"Exited\",kind = \"count\", data = df)"
   ]
  },
  {
   "cell_type": "code",
   "execution_count": 49,
   "id": "4be86bfd",
   "metadata": {},
   "outputs": [
    {
     "data": {
      "text/html": [
       "<div>\n",
       "<style scoped>\n",
       "    .dataframe tbody tr th:only-of-type {\n",
       "        vertical-align: middle;\n",
       "    }\n",
       "\n",
       "    .dataframe tbody tr th {\n",
       "        vertical-align: top;\n",
       "    }\n",
       "\n",
       "    .dataframe thead th {\n",
       "        text-align: right;\n",
       "    }\n",
       "</style>\n",
       "<table border=\"1\" class=\"dataframe\">\n",
       "  <thead>\n",
       "    <tr style=\"text-align: right;\">\n",
       "      <th>Exited</th>\n",
       "      <th>0</th>\n",
       "      <th>1</th>\n",
       "    </tr>\n",
       "    <tr>\n",
       "      <th>Tenure</th>\n",
       "      <th></th>\n",
       "      <th></th>\n",
       "    </tr>\n",
       "  </thead>\n",
       "  <tbody>\n",
       "    <tr>\n",
       "      <th>0</th>\n",
       "      <td>76.997579</td>\n",
       "      <td>23.002421</td>\n",
       "    </tr>\n",
       "    <tr>\n",
       "      <th>1</th>\n",
       "      <td>77.584541</td>\n",
       "      <td>22.415459</td>\n",
       "    </tr>\n",
       "    <tr>\n",
       "      <th>2</th>\n",
       "      <td>80.820611</td>\n",
       "      <td>19.179389</td>\n",
       "    </tr>\n",
       "    <tr>\n",
       "      <th>3</th>\n",
       "      <td>78.889990</td>\n",
       "      <td>21.110010</td>\n",
       "    </tr>\n",
       "    <tr>\n",
       "      <th>4</th>\n",
       "      <td>79.474216</td>\n",
       "      <td>20.525784</td>\n",
       "    </tr>\n",
       "    <tr>\n",
       "      <th>5</th>\n",
       "      <td>79.347826</td>\n",
       "      <td>20.652174</td>\n",
       "    </tr>\n",
       "    <tr>\n",
       "      <th>6</th>\n",
       "      <td>79.731127</td>\n",
       "      <td>20.268873</td>\n",
       "    </tr>\n",
       "    <tr>\n",
       "      <th>7</th>\n",
       "      <td>82.782101</td>\n",
       "      <td>17.217899</td>\n",
       "    </tr>\n",
       "    <tr>\n",
       "      <th>8</th>\n",
       "      <td>80.780488</td>\n",
       "      <td>19.219512</td>\n",
       "    </tr>\n",
       "    <tr>\n",
       "      <th>9</th>\n",
       "      <td>78.353659</td>\n",
       "      <td>21.646341</td>\n",
       "    </tr>\n",
       "    <tr>\n",
       "      <th>10</th>\n",
       "      <td>79.387755</td>\n",
       "      <td>20.612245</td>\n",
       "    </tr>\n",
       "  </tbody>\n",
       "</table>\n",
       "</div>"
      ],
      "text/plain": [
       "Exited          0          1\n",
       "Tenure                      \n",
       "0       76.997579  23.002421\n",
       "1       77.584541  22.415459\n",
       "2       80.820611  19.179389\n",
       "3       78.889990  21.110010\n",
       "4       79.474216  20.525784\n",
       "5       79.347826  20.652174\n",
       "6       79.731127  20.268873\n",
       "7       82.782101  17.217899\n",
       "8       80.780488  19.219512\n",
       "9       78.353659  21.646341\n",
       "10      79.387755  20.612245"
      ]
     },
     "execution_count": 49,
     "metadata": {},
     "output_type": "execute_result"
    }
   ],
   "source": [
    "crosstab = pd.crosstab(df[\"Tenure\"],df[\"Exited\"],normalize=\"index\") *100\n",
    "crosstab"
   ]
  },
  {
   "cell_type": "markdown",
   "id": "b75af9ce",
   "metadata": {},
   "source": [
    "<div class=\"alert alert-block alert-info\">\n",
    "    \n",
    "#### _Almost same number of people in different tenure groups have exited the bank_\n",
    "#### _Thus,Customers in different tenure groups don’t have an apparent tendency to churn or stay_\n",
    "\n"
   ]
  },
  {
   "cell_type": "markdown",
   "id": "e6be3fef",
   "metadata": {},
   "source": [
    "## 2(D) : Studying the relationship between Has Credit Card and Exited\n"
   ]
  },
  {
   "cell_type": "code",
   "execution_count": 50,
   "id": "c6d00421",
   "metadata": {},
   "outputs": [
    {
     "data": {
      "text/plain": [
       "<seaborn.axisgrid.FacetGrid at 0x250436f78b0>"
      ]
     },
     "execution_count": 50,
     "metadata": {},
     "output_type": "execute_result"
    },
    {
     "data": {
      "image/png": "[encoded data removed]",
      "text/plain": [
       "<Figure size 402.375x360 with 1 Axes>"
      ]
     },
     "metadata": {
      "needs_background": "light"
     },
     "output_type": "display_data"
    }
   ],
   "source": [
    "sns.catplot(x = \"HasCrCard\", hue = \"Exited\",kind = \"count\", data = df)"
   ]
  },
  {
   "cell_type": "code",
   "execution_count": 52,
   "id": "0a8d8c37",
   "metadata": {},
   "outputs": [
    {
     "data": {
      "text/html": [
       "<div>\n",
       "<style scoped>\n",
       "    .dataframe tbody tr th:only-of-type {\n",
       "        vertical-align: middle;\n",
       "    }\n",
       "\n",
       "    .dataframe tbody tr th {\n",
       "        vertical-align: top;\n",
       "    }\n",
       "\n",
       "    .dataframe thead th {\n",
       "        text-align: right;\n",
       "    }\n",
       "</style>\n",
       "<table border=\"1\" class=\"dataframe\">\n",
       "  <thead>\n",
       "    <tr style=\"text-align: right;\">\n",
       "      <th>HasCrCard</th>\n",
       "      <th>0</th>\n",
       "      <th>1</th>\n",
       "    </tr>\n",
       "    <tr>\n",
       "      <th>Exited</th>\n",
       "      <th></th>\n",
       "      <th></th>\n",
       "    </tr>\n",
       "  </thead>\n",
       "  <tbody>\n",
       "    <tr>\n",
       "      <th>0</th>\n",
       "      <td>0.791851</td>\n",
       "      <td>0.798157</td>\n",
       "    </tr>\n",
       "    <tr>\n",
       "      <th>1</th>\n",
       "      <td>0.208149</td>\n",
       "      <td>0.201843</td>\n",
       "    </tr>\n",
       "  </tbody>\n",
       "</table>\n",
       "</div>"
      ],
      "text/plain": [
       "HasCrCard         0         1\n",
       "Exited                       \n",
       "0          0.791851  0.798157\n",
       "1          0.208149  0.201843"
      ]
     },
     "execution_count": 52,
     "metadata": {},
     "output_type": "execute_result"
    }
   ],
   "source": [
    "pd.crosstab(df['Exited'],df['HasCrCard'],normalize='columns')"
   ]
  },
  {
   "cell_type": "markdown",
   "id": "b8e63301",
   "metadata": {},
   "source": [
    "<div class=\"alert alert-block alert-info\">\n",
    "\n",
    "#### _Almost same number of customers(with or without credit card) have exited the bank._\n",
    "    "
   ]
  },
  {
   "cell_type": "markdown",
   "id": "3322684d",
   "metadata": {},
   "source": [
    "## 2(E) : Studying the relationship between Number of Products and Exited\n"
   ]
  },
  {
   "cell_type": "code",
   "execution_count": 53,
   "id": "b88d1ae7",
   "metadata": {},
   "outputs": [
    {
     "data": {
      "text/plain": [
       "<seaborn.axisgrid.FacetGrid at 0x25044905490>"
      ]
     },
     "execution_count": 53,
     "metadata": {},
     "output_type": "execute_result"
    },
    {
     "data": {
      "image/png": "[encoded data removed]",
      "text/plain": [
       "<Figure size 402.375x360 with 1 Axes>"
      ]
     },
     "metadata": {
      "needs_background": "light"
     },
     "output_type": "display_data"
    }
   ],
   "source": [
    "sns.catplot(x = \"NumOfProducts\", hue = \"Exited\",kind = \"count\", data = df)"
   ]
  },
  {
   "cell_type": "code",
   "execution_count": 54,
   "id": "52876423",
   "metadata": {},
   "outputs": [
    {
     "data": {
      "text/html": [
       "<div>\n",
       "<style scoped>\n",
       "    .dataframe tbody tr th:only-of-type {\n",
       "        vertical-align: middle;\n",
       "    }\n",
       "\n",
       "    .dataframe tbody tr th {\n",
       "        vertical-align: top;\n",
       "    }\n",
       "\n",
       "    .dataframe thead th {\n",
       "        text-align: right;\n",
       "    }\n",
       "</style>\n",
       "<table border=\"1\" class=\"dataframe\">\n",
       "  <thead>\n",
       "    <tr style=\"text-align: right;\">\n",
       "      <th>NumOfProducts</th>\n",
       "      <th>1</th>\n",
       "      <th>2</th>\n",
       "      <th>3</th>\n",
       "      <th>4</th>\n",
       "    </tr>\n",
       "    <tr>\n",
       "      <th>Exited</th>\n",
       "      <th></th>\n",
       "      <th></th>\n",
       "      <th></th>\n",
       "      <th></th>\n",
       "    </tr>\n",
       "  </thead>\n",
       "  <tbody>\n",
       "    <tr>\n",
       "      <th>0</th>\n",
       "      <td>0.722856</td>\n",
       "      <td>0.924183</td>\n",
       "      <td>0.172932</td>\n",
       "      <td>0.0</td>\n",
       "    </tr>\n",
       "    <tr>\n",
       "      <th>1</th>\n",
       "      <td>0.277144</td>\n",
       "      <td>0.075817</td>\n",
       "      <td>0.827068</td>\n",
       "      <td>1.0</td>\n",
       "    </tr>\n",
       "  </tbody>\n",
       "</table>\n",
       "</div>"
      ],
      "text/plain": [
       "NumOfProducts         1         2         3    4\n",
       "Exited                                          \n",
       "0              0.722856  0.924183  0.172932  0.0\n",
       "1              0.277144  0.075817  0.827068  1.0"
      ]
     },
     "execution_count": 54,
     "metadata": {},
     "output_type": "execute_result"
    }
   ],
   "source": [
    "pd.crosstab(df['Exited'],df['NumOfProducts'],normalize='columns')"
   ]
  },
  {
   "cell_type": "markdown",
   "id": "089122e7",
   "metadata": {},
   "source": [
    "<div class=\"alert alert-block alert-info\">\n",
    "\n",
    "#### _All the customers who bought 4 number of products have exited the bank. This might reflect on the poor services bank provided to their customers._\n",
    "#### _Also customers having 3 or more number of products are more likely to churn than customers having 1 or 2 products._"
   ]
  },
  {
   "cell_type": "markdown",
   "id": "5a166b2b",
   "metadata": {},
   "source": [
    "## 2(F) : Studying the relationship between Is Active Member and Exited\n"
   ]
  },
  {
   "cell_type": "code",
   "execution_count": 55,
   "id": "26411d21",
   "metadata": {},
   "outputs": [
    {
     "data": {
      "text/plain": [
       "<seaborn.axisgrid.FacetGrid at 0x2504374d910>"
      ]
     },
     "execution_count": 55,
     "metadata": {},
     "output_type": "execute_result"
    },
    {
     "data": {
      "image/png": "[encoded data removed]",
      "text/plain": [
       "<Figure size 402.375x360 with 1 Axes>"
      ]
     },
     "metadata": {
      "needs_background": "light"
     },
     "output_type": "display_data"
    }
   ],
   "source": [
    "sns.catplot(x = \"IsActiveMember\", hue = \"Exited\",kind = \"count\", data = df)"
   ]
  },
  {
   "cell_type": "code",
   "execution_count": 56,
   "id": "19ea15a4",
   "metadata": {},
   "outputs": [
    {
     "data": {
      "text/html": [
       "<div>\n",
       "<style scoped>\n",
       "    .dataframe tbody tr th:only-of-type {\n",
       "        vertical-align: middle;\n",
       "    }\n",
       "\n",
       "    .dataframe tbody tr th {\n",
       "        vertical-align: top;\n",
       "    }\n",
       "\n",
       "    .dataframe thead tr th {\n",
       "        text-align: left;\n",
       "    }\n",
       "\n",
       "    .dataframe thead tr:last-of-type th {\n",
       "        text-align: right;\n",
       "    }\n",
       "</style>\n",
       "<table border=\"1\" class=\"dataframe\">\n",
       "  <thead>\n",
       "    <tr>\n",
       "      <th>Geography</th>\n",
       "      <th colspan=\"2\" halign=\"left\">France</th>\n",
       "      <th colspan=\"2\" halign=\"left\">Germany</th>\n",
       "      <th colspan=\"2\" halign=\"left\">Spain</th>\n",
       "    </tr>\n",
       "    <tr>\n",
       "      <th>IsActiveMember</th>\n",
       "      <th>0</th>\n",
       "      <th>1</th>\n",
       "      <th>0</th>\n",
       "      <th>1</th>\n",
       "      <th>0</th>\n",
       "      <th>1</th>\n",
       "    </tr>\n",
       "    <tr>\n",
       "      <th>Exited</th>\n",
       "      <th></th>\n",
       "      <th></th>\n",
       "      <th></th>\n",
       "      <th></th>\n",
       "      <th></th>\n",
       "      <th></th>\n",
       "    </tr>\n",
       "  </thead>\n",
       "  <tbody>\n",
       "    <tr>\n",
       "      <th>0</th>\n",
       "      <td>0.788692</td>\n",
       "      <td>0.884986</td>\n",
       "      <td>0.589215</td>\n",
       "      <td>0.762821</td>\n",
       "      <td>0.766524</td>\n",
       "      <td>0.89253</td>\n",
       "    </tr>\n",
       "    <tr>\n",
       "      <th>1</th>\n",
       "      <td>0.211308</td>\n",
       "      <td>0.115014</td>\n",
       "      <td>0.410785</td>\n",
       "      <td>0.237179</td>\n",
       "      <td>0.233476</td>\n",
       "      <td>0.10747</td>\n",
       "    </tr>\n",
       "  </tbody>\n",
       "</table>\n",
       "</div>"
      ],
      "text/plain": [
       "Geography         France             Germany               Spain         \n",
       "IsActiveMember         0         1         0         1         0        1\n",
       "Exited                                                                   \n",
       "0               0.788692  0.884986  0.589215  0.762821  0.766524  0.89253\n",
       "1               0.211308  0.115014  0.410785  0.237179  0.233476  0.10747"
      ]
     },
     "execution_count": 56,
     "metadata": {},
     "output_type": "execute_result"
    }
   ],
   "source": [
    "pd.crosstab(df['Exited'],[df['Geography'],df['IsActiveMember']],normalize='columns')"
   ]
  },
  {
   "cell_type": "markdown",
   "id": "77d6393c",
   "metadata": {},
   "source": [
    "<div class=\"alert alert-block alert-info\">\n",
    "\n",
    "#### _Customers in Germany are more likely to churn than customers in France and Spain_\n",
    "\n"
   ]
  },
  {
   "cell_type": "markdown",
   "id": "ce7b55c3",
   "metadata": {},
   "source": [
    "\n",
    "<div class=\"alert alert-block alert-info\">\n",
    "    \n",
    "## **<u>Test of association between 2 categorical variable using Chi-square test</u>**\n",
    "    \n",
    "    - Hypothesis:\n",
    "         - Null Hypothesis : There is no relationship between two categorical values.  \n",
    "         - Alternative Hypothesis: There is a relationship between two categorical values.    \n",
    "     \n",
    "            \n",
    "\n",
    "</div>\n"
   ]
  },
  {
   "cell_type": "code",
   "execution_count": 62,
   "id": "1b6309ad",
   "metadata": {},
   "outputs": [
    {
     "name": "stdout",
     "output_type": "stream",
     "text": [
      "IsActiveMember     0     1\n",
      "Exited                    \n",
      "0               3547  4416\n",
      "1               1302   735\n",
      "\n",
      "\n",
      "NumOfProducts     1     2    3   4\n",
      "Exited                            \n",
      "0              3675  4242   46   0\n",
      "1              1409   348  220  60\n",
      "\n",
      "\n",
      "HasCrCard     0     1\n",
      "Exited               \n",
      "0          2332  5631\n",
      "1           613  1424\n",
      "\n",
      "\n",
      "Gender  Female  Male\n",
      "Exited              \n",
      "0         3404  4559\n",
      "1         1139   898\n",
      "\n",
      "\n",
      "Geography  France  Germany  Spain\n",
      "Exited                           \n",
      "0            4204     1695   2064\n",
      "1             810      814    413\n",
      "\n",
      "\n",
      "Tenure   0    1    2    3    4    5    6    7    8    9    10\n",
      "Exited                                                       \n",
      "0       318  803  847  796  786  803  771  851  828  771  389\n",
      "1        95  232  201  213  203  209  196  177  197  213  101\n",
      "\n",
      "\n"
     ]
    }
   ],
   "source": [
    "print(pd.crosstab(df['Exited'],df['IsActiveMember']))\n",
    "print('\\n')\n",
    "print(pd.crosstab(df['Exited'],df['NumOfProducts']))\n",
    "print('\\n')\n",
    "print(pd.crosstab(df['Exited'],df['HasCrCard']))\n",
    "print('\\n')\n",
    "print(pd.crosstab(df['Exited'],df['Gender']))\n",
    "print('\\n')\n",
    "print(pd.crosstab(df['Exited'],df['Geography']))\n",
    "print('\\n')\n",
    "print(pd.crosstab(df['Exited'],df['Tenure']))\n",
    "print('\\n')\n"
   ]
  },
  {
   "cell_type": "code",
   "execution_count": 67,
   "id": "df4a02ac",
   "metadata": {},
   "outputs": [
    {
     "name": "stdout",
     "output_type": "stream",
     "text": [
      "The Chi-sq statistic and p value for test of assocation between Exited and Activeness is: \n",
      " (242.98534164287963, 8.785858269303703e-55)\n",
      "The Chi-sq statistic and p value for test of assocation between Exited and NumOfProducts is: \n",
      " (1503.6293615070408, 0.0)\n",
      "The Chi-sq statistic and p value for test of assocation between Exited and Credit card possesion is: \n",
      " (0.4713377990444081, 0.49237236141554686)\n",
      "The Chi-sq statistic and p value for test of assocation between Exited and Geography is: \n",
      " (301.2553368243453, 3.830317605354266e-66)\n",
      "The Chi-sq statistic and p value for test of assocation between Exited and Gender is: \n",
      " (112.91857062096116, 2.2482100097131755e-26)\n",
      "The Chi-sq statistic and p value for test of assocation between Exited and tenure is: \n",
      " (13.900372600390284, 0.17758462026413294)\n"
     ]
    }
   ],
   "source": [
    "a=print(\"The Chi-sq statistic and p value for test of assocation between Exited and Activeness is: \\n\",chi2_contingency([[3547,4416],[1302,735]])[:2])\n",
    "b=print(\"The Chi-sq statistic and p value for test of assocation between Exited and NumOfProducts is: \\n\",chi2_contingency([[3675,4242,46,0],[1409,348,220,60]])[:2])\n",
    "c=print(\"The Chi-sq statistic and p value for test of assocation between Exited and Credit card possesion is: \\n\",chi2_contingency([[2332,5631],[613,1424]])[:2])\n",
    "d=print(\"The Chi-sq statistic and p value for test of assocation between Exited and Geography is: \\n\",chi2_contingency([[4204,1695,2064],[810,814,413]])[:2])\n",
    "e=print(\"The Chi-sq statistic and p value for test of assocation between Exited and Gender is: \\n\",chi2_contingency([[3404,4559],[1139,898]])[:2])\n",
    "f=print(\"The Chi-sq statistic and p value for test of assocation between Exited and tenure is: \\n\",chi2_contingency([[318,803,847,796,786,803,771,851,828,771,389],[95,232,201,213,203,209,196,177,197,213,101]])[:2])"
   ]
  },
  {
   "attachments": {},
   "cell_type": "markdown",
   "id": "f4f9ce22",
   "metadata": {},
   "source": [
    "<div class=\"alert alert-block alert-info\">\n",
    "    \n",
    "#### Interpretating using p value and taking alpha as 0.05:\n",
    "    1.Since p<0.05, we may reject H0 and conclude that there is a relation between Activeness and Exited. \n",
    "    2.Since p<0.05, we may reject H0 and conclude that there is a relation between Number of Products and Exited. \n",
    "    3.Since p>0.05, we may accept H0 and conclude that there is no relation between Credit Card and Exited.\n",
    "    4.Since p<0.05, we may reject H0 and conclude that there is a relation between Geography and Exited.\n",
    "    5.Since p<0.05, we may reject H0 and conclude that there is a relation between Gender and Exited.\n",
    "    3.Since p>0.05, we may reject H0 and conclude that there is no relation between Tenure and Exited\n",
    "           \n",
    "                                        \n",
    "The chi-square for Tenure and HasCrCard are pretty small, at the same time, their p-values are greater than 0.05, so it confirms our hypothesis that these two features will not provide useful information on the reponse (target) variable(i.e. churn). Thus we decided to drop these two variables.\n",
    "\n"
   ]
  },
  {
   "cell_type": "markdown",
   "id": "12c3cffb",
   "metadata": {},
   "source": [
    "### <u>Checking for Multicollinearity</u>\n",
    "#### CORRELATION MATRIX"
   ]
  },
  {
   "cell_type": "code",
   "execution_count": 57,
   "id": "0a89d82f",
   "metadata": {},
   "outputs": [
    {
     "data": {
      "text/plain": [
       "<AxesSubplot:>"
      ]
     },
     "execution_count": 57,
     "metadata": {},
     "output_type": "execute_result"
    },
    {
     "data": {
      "image/png": "[encoded data removed]",
      "text/plain": [
       "<Figure size 432x288 with 2 Axes>"
      ]
     },
     "metadata": {
      "needs_background": "light"
     },
     "output_type": "display_data"
    }
   ],
   "source": [
    "column=['EstimatedSalary','CreditScore','Balance','Age']\n",
    "sns.heatmap(df[column].corr(),annot=True,cmap='RdBu_r')"
   ]
  },
  {
   "cell_type": "markdown",
   "id": "52392786",
   "metadata": {},
   "source": [
    "<div class=\"alert alert-block alert-info\">\n",
    "\n",
    "There is not any high correlation between the continuous variables (i.e. no multicollinearity). So we’ll keep all the continuous variables.\n",
    "\n"
   ]
  },
  {
   "cell_type": "markdown",
   "id": "55e12731",
   "metadata": {},
   "source": [
    "### <u>Another way to check normality is to plot QQ Plot</u>\n",
    "- A Q-Q plot is a scatterplot created by plotting two sets of quantiles against one another. If both sets of quantiles came from the same distribution, we should see the points forming a line that’s roughly straight.\n",
    "- The Q-Q plot, or quantile-quantile plot, is a graphical tool to help us assess if a set of data plausibly came from some theoretical distribution such as a Normal or exponential. For example, if we run a statistical analysis that assumes our dependent variable is Normally distributed, we can use a Normal Q-Q plot to check that assumption. It’s just a visual check, not an air-tight proof, so it is somewhat subjective. But it allows us to see at-a-glance if our assumption is plausible, and if not, how the assumption is violated and what data points contribute to the violation."
   ]
  },
  {
   "cell_type": "code",
   "execution_count": 72,
   "id": "8b8c6753",
   "metadata": {},
   "outputs": [
    {
     "data": {
      "image/png": "[encoded data removed]",
      "text/plain": [
       "<Figure size 432x288 with 1 Axes>"
      ]
     },
     "metadata": {
      "needs_background": "light"
     },
     "output_type": "display_data"
    },
    {
     "data": {
      "image/png": "[encoded data removed]",
      "text/plain": [
       "<Figure size 432x288 with 1 Axes>"
      ]
     },
     "metadata": {
      "needs_background": "light"
     },
     "output_type": "display_data"
    },
    {
     "data": {
      "image/png": "[encoded data removed]",
      "text/plain": [
       "<Figure size 432x288 with 1 Axes>"
      ]
     },
     "metadata": {
      "needs_background": "light"
     },
     "output_type": "display_data"
    },
    {
     "data": {
      "image/png": "[encoded data removed]",
      "text/plain": [
       "<Figure size 432x288 with 1 Axes>"
      ]
     },
     "metadata": {
      "needs_background": "light"
     },
     "output_type": "display_data"
    }
   ],
   "source": [
    "from statsmodels.graphics.gofplots import qqplot\n",
    "qqplot(df[df['Balance']!=0]['Balance'],line='s')\n",
    "qqplot(df['EstimatedSalary'],line='s')\n",
    "qqplot(df['CreditScore'],line='s')\n",
    "qqplot(df['Age'],line='s')\n",
    "plt.show()"
   ]
  },
  {
   "cell_type": "markdown",
   "id": "23db2b92",
   "metadata": {},
   "source": [
    "<div class=\"alert alert-block alert-info\">\n",
    " The QQ Plots are drawn in the following order:\n",
    "    \n",
    "    1.Balance (without including customers having zero balance)\n",
    "    2.Estimated Salary\n",
    "    3.Credit Score \n",
    "    4. Age\n",
    "\n",
    "We infer the same result as while performing univariate analysis that only Balance (without including customers having zero balance) is fairly normally distributed."
   ]
  },
  {
   "cell_type": "code",
   "execution_count": null,
   "id": "8e492402",
   "metadata": {},
   "outputs": [],
   "source": []
  }
 ],
 "metadata": {
  "kernelspec": {
   "display_name": "Python 3",
   "language": "python",
   "name": "python3"
  },
  "language_info": {
   "codemirror_mode": {
    "name": "ipython",
    "version": 3
   },
   "file_extension": ".py",
   "mimetype": "text/x-python",
   "name": "python",
   "nbconvert_exporter": "python",
   "pygments_lexer": "ipython3",
   "version": "3.8.8"
  }
 },
 "nbformat": 4,
 "nbformat_minor": 5
}
